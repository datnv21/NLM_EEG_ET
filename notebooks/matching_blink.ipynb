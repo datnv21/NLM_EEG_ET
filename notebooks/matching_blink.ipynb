{
 "cells": [
  {
   "cell_type": "markdown",
   "metadata": {
    "slideshow": {
     "slide_type": "slide"
    },
    "tags": []
   },
   "source": [
    "# Explore HMI dataset and extract blinks signal in EEG"
   ]
  },
  {
   "cell_type": "markdown",
   "metadata": {
    "slideshow": {
     "slide_type": "slide"
    },
    "tags": []
   },
   "source": [
    "## Dataset Structure\n",
    "\n",
    "- Subject1\n",
    "    - Sample1\n",
    "        - EEG.edf: EEG signal in EDF format\n",
    "        - eeg.json: General information about EEG signal\n",
    "        - EEGTimeStamp.txt: Timestamp corresponding to EEG sample\n",
    "        - ET.csv: ET samples\n",
    "        - FaceGesture.avi: Face video\n",
    "        - scenario.json: Information about experiment\n",
    "    - Sample2\n",
    "    - ...\n",
    "    - Sample9\n",
    "- Subject2\n",
    "- ..."
   ]
  },
  {
   "cell_type": "code",
   "execution_count": 1,
   "metadata": {
    "slideshow": {
     "slide_type": "slide"
    },
    "tags": []
   },
   "outputs": [],
   "source": [
    "import mne\n",
    "import numpy as np\n",
    "import pandas as pd\n",
    "from matplotlib import pyplot as plt\n",
    "from scipy import stats"
   ]
  },
  {
   "cell_type": "code",
   "execution_count": 2,
   "metadata": {},
   "outputs": [],
   "source": [
    "import sys\n",
    "sys.path.append('..')\n",
    "sys.path.append('hbd/')\n",
    "\n",
    "from hbd.utils import dataloader as hmi_dataloader"
   ]
  },
  {
   "cell_type": "code",
   "execution_count": 3,
   "metadata": {
    "slideshow": {
     "slide_type": "fragment"
    },
    "tags": []
   },
   "outputs": [],
   "source": [
    "sample_path = '../DataVIN/BV103_01/sample4/'"
   ]
  },
  {
   "cell_type": "code",
   "execution_count": 4,
   "metadata": {
    "slideshow": {
     "slide_type": "fragment"
    },
    "tags": []
   },
   "outputs": [
    {
     "name": "stdout",
     "output_type": "stream",
     "text": [
      "Extracting EDF parameters from /Users/datnguyen/Documents/Git/NLM_EEG_ET/DataVIN/BV103_01/sample4/EEG.edf...\n",
      "EDF file detected\n",
      "Setting channel info structure...\n",
      "Creating raw.info structure...\n"
     ]
    }
   ],
   "source": [
    "raw = mne.io.read_raw_edf(sample_path + 'EEG.edf')"
   ]
  },
  {
   "cell_type": "code",
   "execution_count": 5,
   "metadata": {
    "slideshow": {
     "slide_type": "fragment"
    },
    "tags": []
   },
   "outputs": [],
   "source": [
    "eegts = pd.read_csv(sample_path + 'EEGTimeStamp.txt', names = ['timestamp'])\n",
    "et = pd.read_csv(sample_path + 'ET.csv')"
   ]
  },
  {
   "cell_type": "markdown",
   "metadata": {
    "slideshow": {
     "slide_type": "slide"
    },
    "tags": []
   },
   "source": [
    "## Time consistency of recorded signals\n",
    "\n",
    "We will check the following:\n",
    "- Length of ET signal\n",
    "- Length of EEG signal\n",
    "- Consistency of timestamp"
   ]
  },
  {
   "cell_type": "code",
   "execution_count": 6,
   "metadata": {
    "slideshow": {
     "slide_type": "slide"
    },
    "tags": []
   },
   "outputs": [
    {
     "name": "stdout",
     "output_type": "stream",
     "text": [
      "Length of EEG recording: 139.72162199999912\n"
     ]
    }
   ],
   "source": [
    "# last EEG timestamp - first EEG timestamp\n",
    "eeg_record_time = eegts.tail(1).timestamp.item() - eegts.loc[0, 'timestamp']\n",
    "print('Length of EEG recording:', eeg_record_time)"
   ]
  },
  {
   "cell_type": "code",
   "execution_count": 7,
   "metadata": {
    "slideshow": {
     "slide_type": "fragment"
    },
    "tags": []
   },
   "outputs": [
    {
     "name": "stdout",
     "output_type": "stream",
     "text": [
      "Length of ET recording: 141.9688085000007\n"
     ]
    }
   ],
   "source": [
    "# last ET timestamp - first ET timestamp\n",
    "et_record_time = et.tail(1).TimeStamp.item() - et.loc[0, 'TimeStamp']\n",
    "print('Length of ET recording:', et_record_time)"
   ]
  },
  {
   "cell_type": "code",
   "execution_count": 8,
   "metadata": {
    "slideshow": {
     "slide_type": "fragment"
    },
    "tags": []
   },
   "outputs": [
    {
     "name": "stdout",
     "output_type": "stream",
     "text": [
      "Different between EEG and ET: 2.2471865000015896\n"
     ]
    }
   ],
   "source": [
    "print('Different between EEG and ET:', et_record_time - eeg_record_time)"
   ]
  },
  {
   "cell_type": "code",
   "execution_count": 9,
   "metadata": {
    "slideshow": {
     "slide_type": "fragment"
    },
    "tags": []
   },
   "outputs": [
    {
     "name": "stdout",
     "output_type": "stream",
     "text": [
      "Expected number of EEG sample 17885.367615999887\n"
     ]
    }
   ],
   "source": [
    "print('Expected number of EEG sample', eeg_record_time * 128 + 1)"
   ]
  },
  {
   "cell_type": "code",
   "execution_count": 10,
   "metadata": {
    "slideshow": {
     "slide_type": "fragment"
    },
    "tags": []
   },
   "outputs": [
    {
     "name": "stdout",
     "output_type": "stream",
     "text": [
      "Number of missing EEG sample -2.63\n"
     ]
    }
   ],
   "source": [
    "print(f'Number of missing EEG sample {(eeg_record_time * 128 + 1 - len(eegts)):.2f}')"
   ]
  },
  {
   "cell_type": "code",
   "execution_count": 11,
   "metadata": {},
   "outputs": [
    {
     "data": {
      "text/plain": [
       "(17888, 17920)"
      ]
     },
     "execution_count": 11,
     "metadata": {},
     "output_type": "execute_result"
    }
   ],
   "source": [
    "len(eegts), len(raw)"
   ]
  },
  {
   "cell_type": "code",
   "execution_count": 12,
   "metadata": {},
   "outputs": [
    {
     "data": {
      "text/plain": [
       "(8515, 17888)"
      ]
     },
     "execution_count": 12,
     "metadata": {},
     "output_type": "execute_result"
    }
   ],
   "source": [
    "len(et), len(eegts)"
   ]
  },
  {
   "cell_type": "code",
   "execution_count": 13,
   "metadata": {},
   "outputs": [],
   "source": [
    "eegts['diff'] = [*eegts['timestamp'][1:],0] - eegts['timestamp']"
   ]
  },
  {
   "cell_type": "code",
   "execution_count": 14,
   "metadata": {},
   "outputs": [
    {
     "data": {
      "text/plain": [
       "-0.2565061504001496"
      ]
     },
     "execution_count": 14,
     "metadata": {},
     "output_type": "execute_result"
    }
   ],
   "source": [
    "((et.loc[0].TimeStamp - eegts.loc[0].timestamp) * 128)/1000"
   ]
  },
  {
   "cell_type": "code",
   "execution_count": 15,
   "metadata": {},
   "outputs": [
    {
     "data": {
      "text/plain": [
       "0.031133721600053833"
      ]
     },
     "execution_count": 15,
     "metadata": {},
     "output_type": "execute_result"
    }
   ],
   "source": [
    "((et.iloc[-1].TimeStamp - eegts.iloc[-1].timestamp) * 128)/1000"
   ]
  },
  {
   "cell_type": "markdown",
   "metadata": {
    "slideshow": {
     "slide_type": "slide"
    },
    "tags": []
   },
   "source": [
    "## The missing samples"
   ]
  },
  {
   "cell_type": "code",
   "execution_count": 16,
   "metadata": {
    "slideshow": {
     "slide_type": "fragment"
    },
    "tags": []
   },
   "outputs": [],
   "source": [
    "# Calculate different in time between frames\n",
    "eegts['timediff'] = [*eegts['timestamp'][1:], 0] - eegts['timestamp']\n",
    "eegts.at[len(eegts)-1, 'timediff'] = 1.0/128"
   ]
  },
  {
   "cell_type": "code",
   "execution_count": 17,
   "metadata": {
    "scrolled": true,
    "slideshow": {
     "slide_type": "fragment"
    },
    "tags": []
   },
   "outputs": [
    {
     "data": {
      "text/html": [
       "<div>\n",
       "<style scoped>\n",
       "    .dataframe tbody tr th:only-of-type {\n",
       "        vertical-align: middle;\n",
       "    }\n",
       "\n",
       "    .dataframe tbody tr th {\n",
       "        vertical-align: top;\n",
       "    }\n",
       "\n",
       "    .dataframe thead th {\n",
       "        text-align: right;\n",
       "    }\n",
       "</style>\n",
       "<table border=\"1\" class=\"dataframe\">\n",
       "  <thead>\n",
       "    <tr style=\"text-align: right;\">\n",
       "      <th></th>\n",
       "      <th>timestamp</th>\n",
       "      <th>diff</th>\n",
       "      <th>timediff</th>\n",
       "    </tr>\n",
       "  </thead>\n",
       "  <tbody>\n",
       "    <tr>\n",
       "      <th>95</th>\n",
       "      <td>6620.629748</td>\n",
       "      <td>-0.002091</td>\n",
       "      <td>-0.002091</td>\n",
       "    </tr>\n",
       "    <tr>\n",
       "      <th>127</th>\n",
       "      <td>6620.869845</td>\n",
       "      <td>0.017807</td>\n",
       "      <td>0.017807</td>\n",
       "    </tr>\n",
       "    <tr>\n",
       "      <th>191</th>\n",
       "      <td>6621.379806</td>\n",
       "      <td>0.027857</td>\n",
       "      <td>0.027857</td>\n",
       "    </tr>\n",
       "    <tr>\n",
       "      <th>223</th>\n",
       "      <td>6621.649850</td>\n",
       "      <td>-0.022125</td>\n",
       "      <td>-0.022125</td>\n",
       "    </tr>\n",
       "    <tr>\n",
       "      <th>255</th>\n",
       "      <td>6621.869913</td>\n",
       "      <td>0.017764</td>\n",
       "      <td>0.017764</td>\n",
       "    </tr>\n",
       "    <tr>\n",
       "      <th>287</th>\n",
       "      <td>6622.129864</td>\n",
       "      <td>0.027890</td>\n",
       "      <td>0.027890</td>\n",
       "    </tr>\n",
       "    <tr>\n",
       "      <th>319</th>\n",
       "      <td>6622.399942</td>\n",
       "      <td>-0.022150</td>\n",
       "      <td>-0.022150</td>\n",
       "    </tr>\n",
       "    <tr>\n",
       "      <th>383</th>\n",
       "      <td>6622.869997</td>\n",
       "      <td>0.037775</td>\n",
       "      <td>0.037775</td>\n",
       "    </tr>\n",
       "    <tr>\n",
       "      <th>415</th>\n",
       "      <td>6623.149959</td>\n",
       "      <td>-0.022148</td>\n",
       "      <td>-0.022148</td>\n",
       "    </tr>\n",
       "    <tr>\n",
       "      <th>447</th>\n",
       "      <td>6623.369999</td>\n",
       "      <td>0.016791</td>\n",
       "      <td>0.016791</td>\n",
       "    </tr>\n",
       "    <tr>\n",
       "      <th>479</th>\n",
       "      <td>6623.628977</td>\n",
       "      <td>0.027904</td>\n",
       "      <td>0.027904</td>\n",
       "    </tr>\n",
       "    <tr>\n",
       "      <th>511</th>\n",
       "      <td>6623.899068</td>\n",
       "      <td>-0.022171</td>\n",
       "      <td>-0.022171</td>\n",
       "    </tr>\n",
       "    <tr>\n",
       "      <th>543</th>\n",
       "      <td>6624.119085</td>\n",
       "      <td>0.008355</td>\n",
       "      <td>0.008355</td>\n",
       "    </tr>\n",
       "    <tr>\n",
       "      <th>575</th>\n",
       "      <td>6624.369627</td>\n",
       "      <td>0.037858</td>\n",
       "      <td>0.037858</td>\n",
       "    </tr>\n",
       "    <tr>\n",
       "      <th>607</th>\n",
       "      <td>6624.649672</td>\n",
       "      <td>-0.022143</td>\n",
       "      <td>-0.022143</td>\n",
       "    </tr>\n",
       "    <tr>\n",
       "      <th>671</th>\n",
       "      <td>6625.119243</td>\n",
       "      <td>0.037854</td>\n",
       "      <td>0.037854</td>\n",
       "    </tr>\n",
       "    <tr>\n",
       "      <th>703</th>\n",
       "      <td>6625.399285</td>\n",
       "      <td>-0.022232</td>\n",
       "      <td>-0.022232</td>\n",
       "    </tr>\n",
       "    <tr>\n",
       "      <th>735</th>\n",
       "      <td>6625.619240</td>\n",
       "      <td>0.017869</td>\n",
       "      <td>0.017869</td>\n",
       "    </tr>\n",
       "    <tr>\n",
       "      <th>767</th>\n",
       "      <td>6625.879297</td>\n",
       "      <td>-0.002220</td>\n",
       "      <td>-0.002220</td>\n",
       "    </tr>\n",
       "    <tr>\n",
       "      <th>831</th>\n",
       "      <td>6626.369289</td>\n",
       "      <td>0.017889</td>\n",
       "      <td>0.017889</td>\n",
       "    </tr>\n",
       "    <tr>\n",
       "      <th>863</th>\n",
       "      <td>6626.629365</td>\n",
       "      <td>0.027815</td>\n",
       "      <td>0.027815</td>\n",
       "    </tr>\n",
       "    <tr>\n",
       "      <th>895</th>\n",
       "      <td>6626.899367</td>\n",
       "      <td>-0.022150</td>\n",
       "      <td>-0.022150</td>\n",
       "    </tr>\n",
       "    <tr>\n",
       "      <th>927</th>\n",
       "      <td>6627.119405</td>\n",
       "      <td>0.017421</td>\n",
       "      <td>0.017421</td>\n",
       "    </tr>\n",
       "    <tr>\n",
       "      <th>959</th>\n",
       "      <td>6627.379013</td>\n",
       "      <td>0.027842</td>\n",
       "      <td>0.027842</td>\n",
       "    </tr>\n",
       "    <tr>\n",
       "      <th>991</th>\n",
       "      <td>6627.649043</td>\n",
       "      <td>-0.021335</td>\n",
       "      <td>-0.021335</td>\n",
       "    </tr>\n",
       "    <tr>\n",
       "      <th>1023</th>\n",
       "      <td>6627.869895</td>\n",
       "      <td>0.018237</td>\n",
       "      <td>0.018237</td>\n",
       "    </tr>\n",
       "    <tr>\n",
       "      <th>1055</th>\n",
       "      <td>6628.130320</td>\n",
       "      <td>0.027458</td>\n",
       "      <td>0.027458</td>\n",
       "    </tr>\n",
       "    <tr>\n",
       "      <th>1087</th>\n",
       "      <td>6628.399965</td>\n",
       "      <td>-0.022143</td>\n",
       "      <td>-0.022143</td>\n",
       "    </tr>\n",
       "    <tr>\n",
       "      <th>1119</th>\n",
       "      <td>6628.620010</td>\n",
       "      <td>0.017968</td>\n",
       "      <td>0.017968</td>\n",
       "    </tr>\n",
       "    <tr>\n",
       "      <th>1151</th>\n",
       "      <td>6628.880165</td>\n",
       "      <td>0.026630</td>\n",
       "      <td>0.026630</td>\n",
       "    </tr>\n",
       "    <tr>\n",
       "      <th>...</th>\n",
       "      <td>...</td>\n",
       "      <td>...</td>\n",
       "      <td>...</td>\n",
       "    </tr>\n",
       "    <tr>\n",
       "      <th>16447</th>\n",
       "      <td>6748.389359</td>\n",
       "      <td>-0.002330</td>\n",
       "      <td>-0.002330</td>\n",
       "    </tr>\n",
       "    <tr>\n",
       "      <th>16511</th>\n",
       "      <td>6748.879201</td>\n",
       "      <td>0.018030</td>\n",
       "      <td>0.018030</td>\n",
       "    </tr>\n",
       "    <tr>\n",
       "      <th>16543</th>\n",
       "      <td>6749.139419</td>\n",
       "      <td>-0.002324</td>\n",
       "      <td>-0.002324</td>\n",
       "    </tr>\n",
       "    <tr>\n",
       "      <th>16607</th>\n",
       "      <td>6749.629334</td>\n",
       "      <td>0.017932</td>\n",
       "      <td>0.017932</td>\n",
       "    </tr>\n",
       "    <tr>\n",
       "      <th>16671</th>\n",
       "      <td>6750.139605</td>\n",
       "      <td>-0.002369</td>\n",
       "      <td>-0.002369</td>\n",
       "    </tr>\n",
       "    <tr>\n",
       "      <th>16703</th>\n",
       "      <td>6750.379424</td>\n",
       "      <td>0.017851</td>\n",
       "      <td>0.017851</td>\n",
       "    </tr>\n",
       "    <tr>\n",
       "      <th>16735</th>\n",
       "      <td>6750.639463</td>\n",
       "      <td>-0.002251</td>\n",
       "      <td>-0.002251</td>\n",
       "    </tr>\n",
       "    <tr>\n",
       "      <th>16799</th>\n",
       "      <td>6751.129425</td>\n",
       "      <td>0.017969</td>\n",
       "      <td>0.017969</td>\n",
       "    </tr>\n",
       "    <tr>\n",
       "      <th>16831</th>\n",
       "      <td>6751.389582</td>\n",
       "      <td>-0.002304</td>\n",
       "      <td>-0.002304</td>\n",
       "    </tr>\n",
       "    <tr>\n",
       "      <th>16863</th>\n",
       "      <td>6751.629465</td>\n",
       "      <td>0.037947</td>\n",
       "      <td>0.037947</td>\n",
       "    </tr>\n",
       "    <tr>\n",
       "      <th>16895</th>\n",
       "      <td>6751.909599</td>\n",
       "      <td>-0.012210</td>\n",
       "      <td>-0.012210</td>\n",
       "    </tr>\n",
       "    <tr>\n",
       "      <th>16927</th>\n",
       "      <td>6752.139577</td>\n",
       "      <td>-0.002261</td>\n",
       "      <td>-0.002261</td>\n",
       "    </tr>\n",
       "    <tr>\n",
       "      <th>16991</th>\n",
       "      <td>6752.629065</td>\n",
       "      <td>0.017934</td>\n",
       "      <td>0.017934</td>\n",
       "    </tr>\n",
       "    <tr>\n",
       "      <th>17023</th>\n",
       "      <td>6752.889186</td>\n",
       "      <td>-0.002292</td>\n",
       "      <td>-0.002292</td>\n",
       "    </tr>\n",
       "    <tr>\n",
       "      <th>17087</th>\n",
       "      <td>6753.379097</td>\n",
       "      <td>0.018115</td>\n",
       "      <td>0.018115</td>\n",
       "    </tr>\n",
       "    <tr>\n",
       "      <th>17119</th>\n",
       "      <td>6753.639400</td>\n",
       "      <td>-0.002452</td>\n",
       "      <td>-0.002452</td>\n",
       "    </tr>\n",
       "    <tr>\n",
       "      <th>17183</th>\n",
       "      <td>6754.129165</td>\n",
       "      <td>0.017853</td>\n",
       "      <td>0.017853</td>\n",
       "    </tr>\n",
       "    <tr>\n",
       "      <th>17215</th>\n",
       "      <td>6754.389206</td>\n",
       "      <td>0.017817</td>\n",
       "      <td>0.017817</td>\n",
       "    </tr>\n",
       "    <tr>\n",
       "      <th>17279</th>\n",
       "      <td>6754.899227</td>\n",
       "      <td>0.017856</td>\n",
       "      <td>0.017856</td>\n",
       "    </tr>\n",
       "    <tr>\n",
       "      <th>17311</th>\n",
       "      <td>6755.159271</td>\n",
       "      <td>-0.002191</td>\n",
       "      <td>-0.002191</td>\n",
       "    </tr>\n",
       "    <tr>\n",
       "      <th>17375</th>\n",
       "      <td>6755.649277</td>\n",
       "      <td>0.017880</td>\n",
       "      <td>0.017880</td>\n",
       "    </tr>\n",
       "    <tr>\n",
       "      <th>17407</th>\n",
       "      <td>6755.909344</td>\n",
       "      <td>-0.002223</td>\n",
       "      <td>-0.002223</td>\n",
       "    </tr>\n",
       "    <tr>\n",
       "      <th>17535</th>\n",
       "      <td>6756.899371</td>\n",
       "      <td>-0.042105</td>\n",
       "      <td>-0.042105</td>\n",
       "    </tr>\n",
       "    <tr>\n",
       "      <th>17599</th>\n",
       "      <td>6757.349466</td>\n",
       "      <td>0.027988</td>\n",
       "      <td>0.027988</td>\n",
       "    </tr>\n",
       "    <tr>\n",
       "      <th>17631</th>\n",
       "      <td>6757.619641</td>\n",
       "      <td>-0.012783</td>\n",
       "      <td>-0.012783</td>\n",
       "    </tr>\n",
       "    <tr>\n",
       "      <th>17663</th>\n",
       "      <td>6757.849046</td>\n",
       "      <td>0.027780</td>\n",
       "      <td>0.027780</td>\n",
       "    </tr>\n",
       "    <tr>\n",
       "      <th>17695</th>\n",
       "      <td>6758.119013</td>\n",
       "      <td>0.027841</td>\n",
       "      <td>0.027841</td>\n",
       "    </tr>\n",
       "    <tr>\n",
       "      <th>17727</th>\n",
       "      <td>6758.389042</td>\n",
       "      <td>-0.022069</td>\n",
       "      <td>-0.022069</td>\n",
       "    </tr>\n",
       "    <tr>\n",
       "      <th>17791</th>\n",
       "      <td>6758.859180</td>\n",
       "      <td>0.037754</td>\n",
       "      <td>0.037754</td>\n",
       "    </tr>\n",
       "    <tr>\n",
       "      <th>17823</th>\n",
       "      <td>6759.139121</td>\n",
       "      <td>-0.022072</td>\n",
       "      <td>-0.022072</td>\n",
       "    </tr>\n",
       "  </tbody>\n",
       "</table>\n",
       "<p>377 rows × 3 columns</p>\n",
       "</div>"
      ],
      "text/plain": [
       "         timestamp      diff  timediff\n",
       "95     6620.629748 -0.002091 -0.002091\n",
       "127    6620.869845  0.017807  0.017807\n",
       "191    6621.379806  0.027857  0.027857\n",
       "223    6621.649850 -0.022125 -0.022125\n",
       "255    6621.869913  0.017764  0.017764\n",
       "287    6622.129864  0.027890  0.027890\n",
       "319    6622.399942 -0.022150 -0.022150\n",
       "383    6622.869997  0.037775  0.037775\n",
       "415    6623.149959 -0.022148 -0.022148\n",
       "447    6623.369999  0.016791  0.016791\n",
       "479    6623.628977  0.027904  0.027904\n",
       "511    6623.899068 -0.022171 -0.022171\n",
       "543    6624.119085  0.008355  0.008355\n",
       "575    6624.369627  0.037858  0.037858\n",
       "607    6624.649672 -0.022143 -0.022143\n",
       "671    6625.119243  0.037854  0.037854\n",
       "703    6625.399285 -0.022232 -0.022232\n",
       "735    6625.619240  0.017869  0.017869\n",
       "767    6625.879297 -0.002220 -0.002220\n",
       "831    6626.369289  0.017889  0.017889\n",
       "863    6626.629365  0.027815  0.027815\n",
       "895    6626.899367 -0.022150 -0.022150\n",
       "927    6627.119405  0.017421  0.017421\n",
       "959    6627.379013  0.027842  0.027842\n",
       "991    6627.649043 -0.021335 -0.021335\n",
       "1023   6627.869895  0.018237  0.018237\n",
       "1055   6628.130320  0.027458  0.027458\n",
       "1087   6628.399965 -0.022143 -0.022143\n",
       "1119   6628.620010  0.017968  0.017968\n",
       "1151   6628.880165  0.026630  0.026630\n",
       "...            ...       ...       ...\n",
       "16447  6748.389359 -0.002330 -0.002330\n",
       "16511  6748.879201  0.018030  0.018030\n",
       "16543  6749.139419 -0.002324 -0.002324\n",
       "16607  6749.629334  0.017932  0.017932\n",
       "16671  6750.139605 -0.002369 -0.002369\n",
       "16703  6750.379424  0.017851  0.017851\n",
       "16735  6750.639463 -0.002251 -0.002251\n",
       "16799  6751.129425  0.017969  0.017969\n",
       "16831  6751.389582 -0.002304 -0.002304\n",
       "16863  6751.629465  0.037947  0.037947\n",
       "16895  6751.909599 -0.012210 -0.012210\n",
       "16927  6752.139577 -0.002261 -0.002261\n",
       "16991  6752.629065  0.017934  0.017934\n",
       "17023  6752.889186 -0.002292 -0.002292\n",
       "17087  6753.379097  0.018115  0.018115\n",
       "17119  6753.639400 -0.002452 -0.002452\n",
       "17183  6754.129165  0.017853  0.017853\n",
       "17215  6754.389206  0.017817  0.017817\n",
       "17279  6754.899227  0.017856  0.017856\n",
       "17311  6755.159271 -0.002191 -0.002191\n",
       "17375  6755.649277  0.017880  0.017880\n",
       "17407  6755.909344 -0.002223 -0.002223\n",
       "17535  6756.899371 -0.042105 -0.042105\n",
       "17599  6757.349466  0.027988  0.027988\n",
       "17631  6757.619641 -0.012783 -0.012783\n",
       "17663  6757.849046  0.027780  0.027780\n",
       "17695  6758.119013  0.027841  0.027841\n",
       "17727  6758.389042 -0.022069 -0.022069\n",
       "17791  6758.859180  0.037754  0.037754\n",
       "17823  6759.139121 -0.022072 -0.022072\n",
       "\n",
       "[377 rows x 3 columns]"
      ]
     },
     "execution_count": 17,
     "metadata": {},
     "output_type": "execute_result"
    }
   ],
   "source": [
    "# Find different which are too large or too small\n",
    "eegts[(eegts['timediff'] < 0.007) | (eegts['timediff'] > 0.008)]"
   ]
  },
  {
   "cell_type": "code",
   "execution_count": 18,
   "metadata": {
    "slideshow": {
     "slide_type": "slide"
    },
    "tags": []
   },
   "outputs": [
    {
     "data": {
      "text/plain": [
       "(0.06803149999996094, -0.0721469000009165)"
      ]
     },
     "execution_count": 18,
     "metadata": {},
     "output_type": "execute_result"
    }
   ],
   "source": [
    "# Get maximum and minimum differences\n",
    "eegts['timediff'].max(), eegts['timediff'].min()"
   ]
  },
  {
   "cell_type": "markdown",
   "metadata": {
    "slideshow": {
     "slide_type": "fragment"
    },
    "tags": []
   },
   "source": [
    "There are many smaller than 0s differences between samples, which should not happened.\n",
    "\n",
    "The different appears at samples numbered 31, 63, 127 which are the boundary of sample chunks.\n",
    "\n",
    "So there are something wrong with Emotiv chunking function."
   ]
  },
  {
   "cell_type": "code",
   "execution_count": 19,
   "metadata": {
    "slideshow": {
     "slide_type": "slide"
    },
    "tags": []
   },
   "outputs": [
    {
     "data": {
      "text/plain": [
       "Text(0.5, 0, 'Different with next frame (frame)')"
      ]
     },
     "execution_count": 19,
     "metadata": {},
     "output_type": "execute_result"
    },
    {
     "data": {
      "image/png": "[encoded data removed]",
      "text/plain": [
       "<Figure size 432x288 with 1 Axes>"
      ]
     },
     "metadata": {
      "needs_background": "light"
     },
     "output_type": "display_data"
    }
   ],
   "source": [
    "plt.hist(eegts['timediff'] * 128, bins=50)\n",
    "plt.ylabel('No. of frame')\n",
    "plt.xlabel('Different with next frame (frame)')"
   ]
  },
  {
   "cell_type": "markdown",
   "metadata": {
    "slideshow": {
     "slide_type": "fragment"
    },
    "tags": []
   },
   "source": [
    "=> The signal is mostly consistent, but still some missed frames."
   ]
  },
  {
   "cell_type": "code",
   "execution_count": 20,
   "metadata": {},
   "outputs": [
    {
     "data": {
      "text/plain": [
       "(32, 17920)"
      ]
     },
     "execution_count": 20,
     "metadata": {},
     "output_type": "execute_result"
    }
   ],
   "source": [
    "raw.get_data().shape"
   ]
  },
  {
   "cell_type": "markdown",
   "metadata": {
    "slideshow": {
     "slide_type": "slide"
    },
    "tags": []
   },
   "source": [
    "## Extract eye blink signals\n",
    "\n",
    "3 steps:\n",
    "\n",
    "    1. Find blinks in ET signals:\n",
    "        Consecutive missed ET signal of at least 4 samples is considered a blink\n",
    "    2. Find corresponding timestamps of blinks\n",
    "    3. Find EEG samples corresponding to timestamps of blinks"
   ]
  },
  {
   "cell_type": "code",
   "execution_count": 22,
   "metadata": {
    "slideshow": {
     "slide_type": "slide"
    },
    "tags": []
   },
   "outputs": [],
   "source": [
    "def get_blink(et_df: pd.DataFrame) -> list:\n",
    "    # some temporary fixes\n",
    "    et_df = et_df.rename(columns={'y': 'data', 'x': 'y', 'Data': 'x'})\n",
    "    et_df['TimeStampNorm'] = et_df['TimeStamp'] - et_df['TimeStamp'][0]\n",
    "    \n",
    "    # get data corresponds to typing part\n",
    "    typing_start = et_df[et_df['character typing'] == 'Typing'].tail(1).index.item()\n",
    "    type_df = et_df[typing_start+1:]\n",
    "    type_df = type_df[type_df['character typing'] != 'MainMenu']\n",
    "    \n",
    "    # get different of eye movement\n",
    "    type_df['Xdiff'] = [*type_df['x'][1:], 0] - type_df['x']\n",
    "    type_df['Ydiff'] = [*type_df['y'][1:], 0] - type_df['y']\n",
    "    \n",
    "    # blink corresponds to part where there are no eye movement\n",
    "    blink_df = type_df[(type_df['Xdiff'] == 0) & (type_df['Ydiff'] ==0)]\n",
    "    blink_df = blink_df.reset_index()\n",
    "    \n",
    "    start_blink = 0\n",
    "    blinks = []\n",
    "    for idx in range(1, len(blink_df)):\n",
    "        if blink_df.loc[idx, 'index'] - blink_df.loc[idx-1, 'index'] > 1:\n",
    "            # a missing of eye movement for at least 3 frames (50ms) and at most 31 frames (500ms) is considered a blink\n",
    "            if idx - start_blink > 4 and idx - start_blink < 31:\n",
    "                blinks.append((blink_df.loc[start_blink, 'TimeStamp'], blink_df.loc[idx-1, 'TimeStamp']))\n",
    "            start_blink = idx\n",
    "\n",
    "    return blinks"
   ]
  },
  {
   "cell_type": "code",
   "execution_count": 24,
   "metadata": {
    "slideshow": {
     "slide_type": "slide"
    },
    "tags": []
   },
   "outputs": [],
   "source": [
    "def get_blink_annotations(blinks: list, eeg_ts) -> mne.Epochs:\n",
    "    onset = []\n",
    "    duration = []\n",
    "    eeg_start_time = eeg_ts.loc[0].TimeStamp\n",
    "    \n",
    "    for blink in blinks:\n",
    "        onset.append(eeg_ts[eeg_ts['TimeStamp'] >= blink[0]].head(1).TimeStamp.item() - eeg_start_time)\n",
    "        duration.append(blink[1] - blink[0])\n",
    "    \n",
    "    annos = mne.Annotations(onset, duration, 'blink')\n",
    "    return annos"
   ]
  },
  {
   "cell_type": "code",
   "execution_count": 25,
   "metadata": {
    "slideshow": {
     "slide_type": "slide"
    },
    "tags": []
   },
   "outputs": [],
   "source": [
    "import os\n",
    "\n",
    "\"\"\"\n",
    "Load raw EEG data and ET data\n",
    "\"\"\"\n",
    "def load_blink(subjects: list, samples: list = None) -> mne.io.BaseRaw:\n",
    "    if (subjects == None or type(subjects) != list):\n",
    "        raise(BaseException('Invalid parameter'))\n",
    "        return None\n",
    "        \n",
    "    if samples is None:\n",
    "        samples = [f'sample{i}' for i in range(1, 10)]\n",
    "    filepaths = [f'DataVIN/{subject}/{sample}/' for sample in samples for subject in subjects]\n",
    "    if any(map(lambda f: not os.path.exists(f), filepaths)):\n",
    "        raise(BaseException(f'Folder not found. List folders: {filepaths}'))\n",
    "    \n",
    "    res = []\n",
    "    epochs = []\n",
    "    \n",
    "    print(f'Loading data from: {filepaths}')\n",
    "    \n",
    "    for filepath in filepaths:\n",
    "        et_df = pd.read_csv(filepath + 'ET.csv')\n",
    "        eeg_ts = pd.read_csv(filepath + 'EEGTimeStamp.txt', names=['TimeStamp'])\n",
    "        \n",
    "        blinks = get_blink(et_df)\n",
    "        annos = get_blink_annotations(blinks, eeg_ts)\n",
    "        \n",
    "        eeg_raw = mne.io.read_raw_edf(filepath + 'EEG.edf', verbose=0)\n",
    "        eeg_raw.load_data().filter(2., 20.)\n",
    "        eeg_raw.set_annotations(annos)\n",
    "        \n",
    "        events, event_id = mne.events_from_annotations(eeg_raw)\n",
    "        epochs.append(mne.Epochs(raw=eeg_raw, baseline=None, tmin=-0, tmax=0.7, events=events, event_id=event_id, verbose=0))\n",
    "    \n",
    "    return mne.concatenate_epochs(epochs)\n"
   ]
  },
  {
   "cell_type": "markdown",
   "metadata": {
    "slideshow": {
     "slide_type": "slide"
    },
    "tags": []
   },
   "source": [
    "## View blinks in EEG"
   ]
  },
  {
   "cell_type": "code",
   "execution_count": 27,
   "metadata": {
    "slideshow": {
     "slide_type": "fragment"
    },
    "tags": []
   },
   "outputs": [
    {
     "name": "stdout",
     "output_type": "stream",
     "text": [
      "Loading data from: ['DataVIN/HMI02/sample3/', 'DataVIN/HMI02/sample4/', 'DataVIN/HMI02/sample5/', 'DataVIN/HMI02/sample6/']\n"
     ]
    },
    {
     "ename": "KeyError",
     "evalue": "'character typing'",
     "output_type": "error",
     "traceback": [
      "\u001b[0;31m---------------------------------------------------------------------------\u001b[0m",
      "\u001b[0;31mKeyError\u001b[0m                                  Traceback (most recent call last)",
      "\u001b[0;32m~/Documents/Git/env/lib/python3.6/site-packages/pandas/core/indexes/base.py\u001b[0m in \u001b[0;36mget_loc\u001b[0;34m(self, key, method, tolerance)\u001b[0m\n\u001b[1;32m   3077\u001b[0m             \u001b[0;32mtry\u001b[0m\u001b[0;34m:\u001b[0m\u001b[0;34m\u001b[0m\u001b[0;34m\u001b[0m\u001b[0m\n\u001b[0;32m-> 3078\u001b[0;31m                 \u001b[0;32mreturn\u001b[0m \u001b[0mself\u001b[0m\u001b[0;34m.\u001b[0m\u001b[0m_engine\u001b[0m\u001b[0;34m.\u001b[0m\u001b[0mget_loc\u001b[0m\u001b[0;34m(\u001b[0m\u001b[0mkey\u001b[0m\u001b[0;34m)\u001b[0m\u001b[0;34m\u001b[0m\u001b[0;34m\u001b[0m\u001b[0m\n\u001b[0m\u001b[1;32m   3079\u001b[0m             \u001b[0;32mexcept\u001b[0m \u001b[0mKeyError\u001b[0m\u001b[0;34m:\u001b[0m\u001b[0;34m\u001b[0m\u001b[0;34m\u001b[0m\u001b[0m\n",
      "\u001b[0;32mpandas/_libs/index.pyx\u001b[0m in \u001b[0;36mpandas._libs.index.IndexEngine.get_loc\u001b[0;34m()\u001b[0m\n",
      "\u001b[0;32mpandas/_libs/index.pyx\u001b[0m in \u001b[0;36mpandas._libs.index.IndexEngine.get_loc\u001b[0;34m()\u001b[0m\n",
      "\u001b[0;32mpandas/_libs/hashtable_class_helper.pxi\u001b[0m in \u001b[0;36mpandas._libs.hashtable.PyObjectHashTable.get_item\u001b[0;34m()\u001b[0m\n",
      "\u001b[0;32mpandas/_libs/hashtable_class_helper.pxi\u001b[0m in \u001b[0;36mpandas._libs.hashtable.PyObjectHashTable.get_item\u001b[0;34m()\u001b[0m\n",
      "\u001b[0;31mKeyError\u001b[0m: 'character typing'",
      "\nDuring handling of the above exception, another exception occurred:\n",
      "\u001b[0;31mKeyError\u001b[0m                                  Traceback (most recent call last)",
      "\u001b[0;32m<ipython-input-27-71a94116b4d7>\u001b[0m in \u001b[0;36m<module>\u001b[0;34m\u001b[0m\n\u001b[1;32m      1\u001b[0m \u001b[0;31m# 1 epoch is a segment of EEG signal corresponding to an event (blink)\u001b[0m\u001b[0;34m\u001b[0m\u001b[0;34m\u001b[0m\u001b[0;34m\u001b[0m\u001b[0m\n\u001b[1;32m      2\u001b[0m \u001b[0;31m# epochs = hmi_dataloader.load_eeg_blinks(['HMI02'], ['sample3', 'sample4', 'sample5', 'sample6'])\u001b[0m\u001b[0;34m\u001b[0m\u001b[0;34m\u001b[0m\u001b[0;34m\u001b[0m\u001b[0m\n\u001b[0;32m----> 3\u001b[0;31m \u001b[0mepochs\u001b[0m \u001b[0;34m=\u001b[0m \u001b[0mload_blink\u001b[0m\u001b[0;34m(\u001b[0m\u001b[0;34m[\u001b[0m\u001b[0;34m'HMI02'\u001b[0m\u001b[0;34m]\u001b[0m\u001b[0;34m,\u001b[0m \u001b[0;34m[\u001b[0m\u001b[0;34m'sample3'\u001b[0m\u001b[0;34m,\u001b[0m \u001b[0;34m'sample4'\u001b[0m\u001b[0;34m,\u001b[0m \u001b[0;34m'sample5'\u001b[0m\u001b[0;34m,\u001b[0m \u001b[0;34m'sample6'\u001b[0m\u001b[0;34m]\u001b[0m\u001b[0;34m)\u001b[0m\u001b[0;34m\u001b[0m\u001b[0;34m\u001b[0m\u001b[0m\n\u001b[0m\u001b[1;32m      4\u001b[0m \u001b[0mlen\u001b[0m\u001b[0;34m(\u001b[0m\u001b[0mepochs\u001b[0m\u001b[0;34m)\u001b[0m\u001b[0;34m\u001b[0m\u001b[0;34m\u001b[0m\u001b[0m\n",
      "\u001b[0;32m<ipython-input-25-01063f63f958>\u001b[0m in \u001b[0;36mload_blink\u001b[0;34m(subjects, samples)\u001b[0m\n\u001b[1;32m     24\u001b[0m         \u001b[0meeg_ts\u001b[0m \u001b[0;34m=\u001b[0m \u001b[0mpd\u001b[0m\u001b[0;34m.\u001b[0m\u001b[0mread_csv\u001b[0m\u001b[0;34m(\u001b[0m\u001b[0mfilepath\u001b[0m \u001b[0;34m+\u001b[0m \u001b[0;34m'EEGTimeStamp.txt'\u001b[0m\u001b[0;34m,\u001b[0m \u001b[0mnames\u001b[0m\u001b[0;34m=\u001b[0m\u001b[0;34m[\u001b[0m\u001b[0;34m'TimeStamp'\u001b[0m\u001b[0;34m]\u001b[0m\u001b[0;34m)\u001b[0m\u001b[0;34m\u001b[0m\u001b[0;34m\u001b[0m\u001b[0m\n\u001b[1;32m     25\u001b[0m \u001b[0;34m\u001b[0m\u001b[0m\n\u001b[0;32m---> 26\u001b[0;31m         \u001b[0mblinks\u001b[0m \u001b[0;34m=\u001b[0m \u001b[0mget_blink\u001b[0m\u001b[0;34m(\u001b[0m\u001b[0met_df\u001b[0m\u001b[0;34m)\u001b[0m\u001b[0;34m\u001b[0m\u001b[0;34m\u001b[0m\u001b[0m\n\u001b[0m\u001b[1;32m     27\u001b[0m         \u001b[0mannos\u001b[0m \u001b[0;34m=\u001b[0m \u001b[0mget_blink_annotations\u001b[0m\u001b[0;34m(\u001b[0m\u001b[0mblinks\u001b[0m\u001b[0;34m,\u001b[0m \u001b[0meeg_ts\u001b[0m\u001b[0;34m)\u001b[0m\u001b[0;34m\u001b[0m\u001b[0;34m\u001b[0m\u001b[0m\n\u001b[1;32m     28\u001b[0m \u001b[0;34m\u001b[0m\u001b[0m\n",
      "\u001b[0;32m<ipython-input-22-0abf295e07d3>\u001b[0m in \u001b[0;36mget_blink\u001b[0;34m(et_df)\u001b[0m\n\u001b[1;32m      5\u001b[0m \u001b[0;34m\u001b[0m\u001b[0m\n\u001b[1;32m      6\u001b[0m     \u001b[0;31m# get data corresponds to typing part\u001b[0m\u001b[0;34m\u001b[0m\u001b[0;34m\u001b[0m\u001b[0;34m\u001b[0m\u001b[0m\n\u001b[0;32m----> 7\u001b[0;31m     \u001b[0mtyping_start\u001b[0m \u001b[0;34m=\u001b[0m \u001b[0met_df\u001b[0m\u001b[0;34m[\u001b[0m\u001b[0met_df\u001b[0m\u001b[0;34m[\u001b[0m\u001b[0;34m'character typing'\u001b[0m\u001b[0;34m]\u001b[0m \u001b[0;34m==\u001b[0m \u001b[0;34m'Typing'\u001b[0m\u001b[0;34m]\u001b[0m\u001b[0;34m.\u001b[0m\u001b[0mtail\u001b[0m\u001b[0;34m(\u001b[0m\u001b[0;36m1\u001b[0m\u001b[0;34m)\u001b[0m\u001b[0;34m.\u001b[0m\u001b[0mindex\u001b[0m\u001b[0;34m.\u001b[0m\u001b[0mitem\u001b[0m\u001b[0;34m(\u001b[0m\u001b[0;34m)\u001b[0m\u001b[0;34m\u001b[0m\u001b[0;34m\u001b[0m\u001b[0m\n\u001b[0m\u001b[1;32m      8\u001b[0m     \u001b[0mtype_df\u001b[0m \u001b[0;34m=\u001b[0m \u001b[0met_df\u001b[0m\u001b[0;34m[\u001b[0m\u001b[0mtyping_start\u001b[0m\u001b[0;34m+\u001b[0m\u001b[0;36m1\u001b[0m\u001b[0;34m:\u001b[0m\u001b[0;34m]\u001b[0m\u001b[0;34m\u001b[0m\u001b[0;34m\u001b[0m\u001b[0m\n\u001b[1;32m      9\u001b[0m     \u001b[0mtype_df\u001b[0m \u001b[0;34m=\u001b[0m \u001b[0mtype_df\u001b[0m\u001b[0;34m[\u001b[0m\u001b[0mtype_df\u001b[0m\u001b[0;34m[\u001b[0m\u001b[0;34m'character typing'\u001b[0m\u001b[0;34m]\u001b[0m \u001b[0;34m!=\u001b[0m \u001b[0;34m'MainMenu'\u001b[0m\u001b[0;34m]\u001b[0m\u001b[0;34m\u001b[0m\u001b[0;34m\u001b[0m\u001b[0m\n",
      "\u001b[0;32m~/Documents/Git/env/lib/python3.6/site-packages/pandas/core/frame.py\u001b[0m in \u001b[0;36m__getitem__\u001b[0;34m(self, key)\u001b[0m\n\u001b[1;32m   2686\u001b[0m             \u001b[0;32mreturn\u001b[0m \u001b[0mself\u001b[0m\u001b[0;34m.\u001b[0m\u001b[0m_getitem_multilevel\u001b[0m\u001b[0;34m(\u001b[0m\u001b[0mkey\u001b[0m\u001b[0;34m)\u001b[0m\u001b[0;34m\u001b[0m\u001b[0;34m\u001b[0m\u001b[0m\n\u001b[1;32m   2687\u001b[0m         \u001b[0;32melse\u001b[0m\u001b[0;34m:\u001b[0m\u001b[0;34m\u001b[0m\u001b[0;34m\u001b[0m\u001b[0m\n\u001b[0;32m-> 2688\u001b[0;31m             \u001b[0;32mreturn\u001b[0m \u001b[0mself\u001b[0m\u001b[0;34m.\u001b[0m\u001b[0m_getitem_column\u001b[0m\u001b[0;34m(\u001b[0m\u001b[0mkey\u001b[0m\u001b[0;34m)\u001b[0m\u001b[0;34m\u001b[0m\u001b[0;34m\u001b[0m\u001b[0m\n\u001b[0m\u001b[1;32m   2689\u001b[0m \u001b[0;34m\u001b[0m\u001b[0m\n\u001b[1;32m   2690\u001b[0m     \u001b[0;32mdef\u001b[0m \u001b[0m_getitem_column\u001b[0m\u001b[0;34m(\u001b[0m\u001b[0mself\u001b[0m\u001b[0;34m,\u001b[0m \u001b[0mkey\u001b[0m\u001b[0;34m)\u001b[0m\u001b[0;34m:\u001b[0m\u001b[0;34m\u001b[0m\u001b[0;34m\u001b[0m\u001b[0m\n",
      "\u001b[0;32m~/Documents/Git/env/lib/python3.6/site-packages/pandas/core/frame.py\u001b[0m in \u001b[0;36m_getitem_column\u001b[0;34m(self, key)\u001b[0m\n\u001b[1;32m   2693\u001b[0m         \u001b[0;31m# get column\u001b[0m\u001b[0;34m\u001b[0m\u001b[0;34m\u001b[0m\u001b[0;34m\u001b[0m\u001b[0m\n\u001b[1;32m   2694\u001b[0m         \u001b[0;32mif\u001b[0m \u001b[0mself\u001b[0m\u001b[0;34m.\u001b[0m\u001b[0mcolumns\u001b[0m\u001b[0;34m.\u001b[0m\u001b[0mis_unique\u001b[0m\u001b[0;34m:\u001b[0m\u001b[0;34m\u001b[0m\u001b[0;34m\u001b[0m\u001b[0m\n\u001b[0;32m-> 2695\u001b[0;31m             \u001b[0;32mreturn\u001b[0m \u001b[0mself\u001b[0m\u001b[0;34m.\u001b[0m\u001b[0m_get_item_cache\u001b[0m\u001b[0;34m(\u001b[0m\u001b[0mkey\u001b[0m\u001b[0;34m)\u001b[0m\u001b[0;34m\u001b[0m\u001b[0;34m\u001b[0m\u001b[0m\n\u001b[0m\u001b[1;32m   2696\u001b[0m \u001b[0;34m\u001b[0m\u001b[0m\n\u001b[1;32m   2697\u001b[0m         \u001b[0;31m# duplicate columns & possible reduce dimensionality\u001b[0m\u001b[0;34m\u001b[0m\u001b[0;34m\u001b[0m\u001b[0;34m\u001b[0m\u001b[0m\n",
      "\u001b[0;32m~/Documents/Git/env/lib/python3.6/site-packages/pandas/core/generic.py\u001b[0m in \u001b[0;36m_get_item_cache\u001b[0;34m(self, item)\u001b[0m\n\u001b[1;32m   2487\u001b[0m         \u001b[0mres\u001b[0m \u001b[0;34m=\u001b[0m \u001b[0mcache\u001b[0m\u001b[0;34m.\u001b[0m\u001b[0mget\u001b[0m\u001b[0;34m(\u001b[0m\u001b[0mitem\u001b[0m\u001b[0;34m)\u001b[0m\u001b[0;34m\u001b[0m\u001b[0;34m\u001b[0m\u001b[0m\n\u001b[1;32m   2488\u001b[0m         \u001b[0;32mif\u001b[0m \u001b[0mres\u001b[0m \u001b[0;32mis\u001b[0m \u001b[0;32mNone\u001b[0m\u001b[0;34m:\u001b[0m\u001b[0;34m\u001b[0m\u001b[0;34m\u001b[0m\u001b[0m\n\u001b[0;32m-> 2489\u001b[0;31m             \u001b[0mvalues\u001b[0m \u001b[0;34m=\u001b[0m \u001b[0mself\u001b[0m\u001b[0;34m.\u001b[0m\u001b[0m_data\u001b[0m\u001b[0;34m.\u001b[0m\u001b[0mget\u001b[0m\u001b[0;34m(\u001b[0m\u001b[0mitem\u001b[0m\u001b[0;34m)\u001b[0m\u001b[0;34m\u001b[0m\u001b[0;34m\u001b[0m\u001b[0m\n\u001b[0m\u001b[1;32m   2490\u001b[0m             \u001b[0mres\u001b[0m \u001b[0;34m=\u001b[0m \u001b[0mself\u001b[0m\u001b[0;34m.\u001b[0m\u001b[0m_box_item_values\u001b[0m\u001b[0;34m(\u001b[0m\u001b[0mitem\u001b[0m\u001b[0;34m,\u001b[0m \u001b[0mvalues\u001b[0m\u001b[0;34m)\u001b[0m\u001b[0;34m\u001b[0m\u001b[0;34m\u001b[0m\u001b[0m\n\u001b[1;32m   2491\u001b[0m             \u001b[0mcache\u001b[0m\u001b[0;34m[\u001b[0m\u001b[0mitem\u001b[0m\u001b[0;34m]\u001b[0m \u001b[0;34m=\u001b[0m \u001b[0mres\u001b[0m\u001b[0;34m\u001b[0m\u001b[0;34m\u001b[0m\u001b[0m\n",
      "\u001b[0;32m~/Documents/Git/env/lib/python3.6/site-packages/pandas/core/internals.py\u001b[0m in \u001b[0;36mget\u001b[0;34m(self, item, fastpath)\u001b[0m\n\u001b[1;32m   4113\u001b[0m \u001b[0;34m\u001b[0m\u001b[0m\n\u001b[1;32m   4114\u001b[0m             \u001b[0;32mif\u001b[0m \u001b[0;32mnot\u001b[0m \u001b[0misna\u001b[0m\u001b[0;34m(\u001b[0m\u001b[0mitem\u001b[0m\u001b[0;34m)\u001b[0m\u001b[0;34m:\u001b[0m\u001b[0;34m\u001b[0m\u001b[0;34m\u001b[0m\u001b[0m\n\u001b[0;32m-> 4115\u001b[0;31m                 \u001b[0mloc\u001b[0m \u001b[0;34m=\u001b[0m \u001b[0mself\u001b[0m\u001b[0;34m.\u001b[0m\u001b[0mitems\u001b[0m\u001b[0;34m.\u001b[0m\u001b[0mget_loc\u001b[0m\u001b[0;34m(\u001b[0m\u001b[0mitem\u001b[0m\u001b[0;34m)\u001b[0m\u001b[0;34m\u001b[0m\u001b[0;34m\u001b[0m\u001b[0m\n\u001b[0m\u001b[1;32m   4116\u001b[0m             \u001b[0;32melse\u001b[0m\u001b[0;34m:\u001b[0m\u001b[0;34m\u001b[0m\u001b[0;34m\u001b[0m\u001b[0m\n\u001b[1;32m   4117\u001b[0m                 \u001b[0mindexer\u001b[0m \u001b[0;34m=\u001b[0m \u001b[0mnp\u001b[0m\u001b[0;34m.\u001b[0m\u001b[0marange\u001b[0m\u001b[0;34m(\u001b[0m\u001b[0mlen\u001b[0m\u001b[0;34m(\u001b[0m\u001b[0mself\u001b[0m\u001b[0;34m.\u001b[0m\u001b[0mitems\u001b[0m\u001b[0;34m)\u001b[0m\u001b[0;34m)\u001b[0m\u001b[0;34m[\u001b[0m\u001b[0misna\u001b[0m\u001b[0;34m(\u001b[0m\u001b[0mself\u001b[0m\u001b[0;34m.\u001b[0m\u001b[0mitems\u001b[0m\u001b[0;34m)\u001b[0m\u001b[0;34m]\u001b[0m\u001b[0;34m\u001b[0m\u001b[0;34m\u001b[0m\u001b[0m\n",
      "\u001b[0;32m~/Documents/Git/env/lib/python3.6/site-packages/pandas/core/indexes/base.py\u001b[0m in \u001b[0;36mget_loc\u001b[0;34m(self, key, method, tolerance)\u001b[0m\n\u001b[1;32m   3078\u001b[0m                 \u001b[0;32mreturn\u001b[0m \u001b[0mself\u001b[0m\u001b[0;34m.\u001b[0m\u001b[0m_engine\u001b[0m\u001b[0;34m.\u001b[0m\u001b[0mget_loc\u001b[0m\u001b[0;34m(\u001b[0m\u001b[0mkey\u001b[0m\u001b[0;34m)\u001b[0m\u001b[0;34m\u001b[0m\u001b[0;34m\u001b[0m\u001b[0m\n\u001b[1;32m   3079\u001b[0m             \u001b[0;32mexcept\u001b[0m \u001b[0mKeyError\u001b[0m\u001b[0;34m:\u001b[0m\u001b[0;34m\u001b[0m\u001b[0;34m\u001b[0m\u001b[0m\n\u001b[0;32m-> 3080\u001b[0;31m                 \u001b[0;32mreturn\u001b[0m \u001b[0mself\u001b[0m\u001b[0;34m.\u001b[0m\u001b[0m_engine\u001b[0m\u001b[0;34m.\u001b[0m\u001b[0mget_loc\u001b[0m\u001b[0;34m(\u001b[0m\u001b[0mself\u001b[0m\u001b[0;34m.\u001b[0m\u001b[0m_maybe_cast_indexer\u001b[0m\u001b[0;34m(\u001b[0m\u001b[0mkey\u001b[0m\u001b[0;34m)\u001b[0m\u001b[0;34m)\u001b[0m\u001b[0;34m\u001b[0m\u001b[0;34m\u001b[0m\u001b[0m\n\u001b[0m\u001b[1;32m   3081\u001b[0m \u001b[0;34m\u001b[0m\u001b[0m\n\u001b[1;32m   3082\u001b[0m         \u001b[0mindexer\u001b[0m \u001b[0;34m=\u001b[0m \u001b[0mself\u001b[0m\u001b[0;34m.\u001b[0m\u001b[0mget_indexer\u001b[0m\u001b[0;34m(\u001b[0m\u001b[0;34m[\u001b[0m\u001b[0mkey\u001b[0m\u001b[0;34m]\u001b[0m\u001b[0;34m,\u001b[0m \u001b[0mmethod\u001b[0m\u001b[0;34m=\u001b[0m\u001b[0mmethod\u001b[0m\u001b[0;34m,\u001b[0m \u001b[0mtolerance\u001b[0m\u001b[0;34m=\u001b[0m\u001b[0mtolerance\u001b[0m\u001b[0;34m)\u001b[0m\u001b[0;34m\u001b[0m\u001b[0;34m\u001b[0m\u001b[0m\n",
      "\u001b[0;32mpandas/_libs/index.pyx\u001b[0m in \u001b[0;36mpandas._libs.index.IndexEngine.get_loc\u001b[0;34m()\u001b[0m\n",
      "\u001b[0;32mpandas/_libs/index.pyx\u001b[0m in \u001b[0;36mpandas._libs.index.IndexEngine.get_loc\u001b[0;34m()\u001b[0m\n",
      "\u001b[0;32mpandas/_libs/hashtable_class_helper.pxi\u001b[0m in \u001b[0;36mpandas._libs.hashtable.PyObjectHashTable.get_item\u001b[0;34m()\u001b[0m\n",
      "\u001b[0;32mpandas/_libs/hashtable_class_helper.pxi\u001b[0m in \u001b[0;36mpandas._libs.hashtable.PyObjectHashTable.get_item\u001b[0;34m()\u001b[0m\n",
      "\u001b[0;31mKeyError\u001b[0m: 'character typing'"
     ]
    }
   ],
   "source": [
    "# 1 epoch is a segment of EEG signal corresponding to an event (blink)\n",
    "# epochs = hmi_dataloader.load_eeg_blinks(['HMI02'], ['sample3', 'sample4', 'sample5', 'sample6'])\n",
    "epochs = load_blink(['HMI02'], ['sample3', 'sample4', 'sample5', 'sample6'])\n",
    "len(epochs)"
   ]
  },
  {
   "cell_type": "code",
   "execution_count": 19,
   "metadata": {
    "slideshow": {
     "slide_type": "slide"
    },
    "tags": []
   },
   "outputs": [
    {
     "data": {
      "image/png": "[encoded data removed]",
      "text/plain": [
       "<MNEBrowseFigure size 889.92x495.36 with 4 Axes>"
      ]
     },
     "metadata": {
      "needs_background": "light"
     },
     "output_type": "display_data"
    }
   ],
   "source": [
    "mne.viz.plot_epochs(epochs, picks=['Fp1', 'Fp2'], n_epochs=6, scalings=0.1, butterfly=False);"
   ]
  },
  {
   "cell_type": "code",
   "execution_count": 20,
   "metadata": {
    "slideshow": {
     "slide_type": "slide"
    },
    "tags": []
   },
   "outputs": [
    {
     "data": {
      "image/png": "[encoded data removed]",
      "text/plain": [
       "<Figure size 460.8x216 with 1 Axes>"
      ]
     },
     "metadata": {
      "needs_background": "light"
     },
     "output_type": "display_data"
    }
   ],
   "source": [
    "epochs.average().plot(picks = ['Fp1', 'Fp2']);"
   ]
  },
  {
   "cell_type": "markdown",
   "metadata": {},
   "source": [
    "We can see that blinks have very high altitude, from -100.000 to 250.000, much higher than other brain activities."
   ]
  },
  {
   "cell_type": "markdown",
   "metadata": {
    "slideshow": {
     "slide_type": "skip"
    },
    "tags": []
   },
   "source": [
    "## Automatically extract blinks from EEG\n",
    "\n",
    "Some steps:\n",
    "\n",
    "    1. Normalized epoched signals\n",
    "    2. Using a sliding windows to check EEG signals\n",
    "    3. Check "
   ]
  },
  {
   "cell_type": "code",
   "execution_count": 21,
   "metadata": {},
   "outputs": [],
   "source": [
    "\"\"\"\n",
    "Input is a tensor of shape (number of signals, 2)\n",
    "\"\"\"\n",
    "def normalize(data):\n",
    "    data = stats.zscore(data, axis=1)\n",
    "    data = np.sum(data, axis=2)\n",
    "    data = np.square(data)\n",
    "    data = np.log(data)\n",
    "    norm = np.linalg.norm(data, axis=1)\n",
    "    \n",
    "    for i in range(data.shape[0]):\n",
    "        data[i] = data[i] / norm[i]\n",
    "    return data"
   ]
  },
  {
   "cell_type": "code",
   "execution_count": 22,
   "metadata": {},
   "outputs": [
    {
     "name": "stdout",
     "output_type": "stream",
     "text": [
      "Loading data from: ['../data/BN002/sample1/', '../data/BN002/sample2/', '../data/BN002/sample3/']\n",
      "Used Annotations descriptions: ['blink']\n",
      "Used Annotations descriptions: ['blink']\n",
      "Used Annotations descriptions: ['blink']\n"
     ]
    },
    {
     "data": {
      "text/plain": [
       "[<matplotlib.lines.Line2D at 0x7f5d783a08e0>]"
      ]
     },
     "execution_count": 22,
     "metadata": {},
     "output_type": "execute_result"
    },
    {
     "data": {
      "image/png": "[encoded data removed]",
      "text/plain": [
       "<Figure size 432x288 with 1 Axes>"
      ]
     },
     "metadata": {
      "needs_background": "light"
     },
     "output_type": "display_data"
    }
   ],
   "source": [
    "epochs = hmi_dataloader.load_eeg_blinks(['BN002'], ['sample1', 'sample2', 'sample3'])\n",
    "df = epochs.pick(['Fp1', 'Fp2']).to_data_frame()\n",
    "data = []\n",
    "for i in range(df['epoch'].max() + 1):\n",
    "    data.append(df[df['epoch'] == i][['Fp1', 'Fp2']])\n",
    "data = np.asarray(data)\n",
    "data = normalize(data)\n",
    "\n",
    "plt.plot(data[0])"
   ]
  },
  {
   "cell_type": "code",
   "execution_count": 23,
   "metadata": {},
   "outputs": [],
   "source": [
    "from scipy import stats\n",
    "\n",
    "def get_blink_signature(subjects, samples):\n",
    "    epochs = hmi_dataloader.load_eeg_blinks(subjects, samples)\n",
    "    df = epochs.pick(['Fp1', 'Fp2']).to_data_frame()\n",
    "    data = []\n",
    "    for i in range(df['epoch'].max() + 1):\n",
    "        data.append(df[df['epoch'] == i][['Fp1', 'Fp2']])\n",
    "    data = np.asarray(data)\n",
    "    data = normalize(data)\n",
    "    \n",
    "    mean_data = np.mean(data, axis=0)\n",
    "\n",
    "    return mean_data / np.linalg.norm(mean_data), data"
   ]
  },
  {
   "cell_type": "code",
   "execution_count": 24,
   "metadata": {},
   "outputs": [
    {
     "name": "stdout",
     "output_type": "stream",
     "text": [
      "Loading data from: ['../data/BN002/sample1/', '../data/BN002/sample2/', '../data/BN002/sample3/']\n",
      "Used Annotations descriptions: ['blink']\n",
      "Used Annotations descriptions: ['blink']\n",
      "Used Annotations descriptions: ['blink']\n"
     ]
    },
    {
     "data": {
      "text/plain": [
       "91"
      ]
     },
     "execution_count": 24,
     "metadata": {},
     "output_type": "execute_result"
    }
   ],
   "source": [
    "bl_sig, train_data = get_blink_signature(['BN002'], ['sample1', 'sample2', 'sample3'])\n",
    "len(bl_sig)"
   ]
  },
  {
   "cell_type": "code",
   "execution_count": 25,
   "metadata": {},
   "outputs": [
    {
     "data": {
      "text/plain": [
       "[<matplotlib.lines.Line2D at 0x7f5d781fd760>]"
      ]
     },
     "execution_count": 25,
     "metadata": {},
     "output_type": "execute_result"
    },
    {
     "data": {
      "image/png": "[encoded data removed]",
      "text/plain": [
       "<Figure size 432x288 with 1 Axes>"
      ]
     },
     "metadata": {
      "needs_background": "light"
     },
     "output_type": "display_data"
    }
   ],
   "source": [
    "for i in range(train_data.shape[0]):\n",
    "    plt.plot(train_data[i], color = 'gray')\n",
    "plt.plot(bl_sig, color = '#f57542')"
   ]
  },
  {
   "cell_type": "markdown",
   "metadata": {},
   "source": [
    "## Detect blinks in EEG using blink signature\n",
    "\n",
    "The blink signature is 0.7 second long (0. before + 0.7 after).\n",
    "For a sliding window of 0.7 second:\n",
    "\n",
    "- normalize the signal\n",
    "- Calculate a similarity with blink signature using cosine similarity"
   ]
  },
  {
   "cell_type": "code",
   "execution_count": 26,
   "metadata": {},
   "outputs": [
    {
     "name": "stdout",
     "output_type": "stream",
     "text": [
      "Loading data from: ['../data/BN002/sample4/', '../data/BN002/sample5/', '../data/BN002/sample6/']\n",
      "Used Annotations descriptions: ['blink']\n",
      "Used Annotations descriptions: ['blink']\n",
      "Used Annotations descriptions: ['blink']\n",
      "Similarity with signature: 0.5914672327370397\n",
      "Similarity with signature: 0.5626586144715089\n",
      "Similarity with signature: 0.7031505411180757\n",
      "Similarity with signature: 0.641022452202326\n",
      "Similarity with signature: 0.7681675078845934\n",
      "Similarity with signature: 0.5479251462171754\n",
      "Similarity with signature: 0.8614109041903083\n",
      "Similarity with signature: 0.8538083097796814\n",
      "Similarity with signature: 0.8249281358039394\n",
      "Similarity with signature: 0.8250977224590719\n",
      "Similarity with signature: 0.7675469607467659\n",
      "Similarity with signature: 0.7954124044356874\n",
      "Similarity with signature: 0.8025469042741189\n",
      "Similarity with signature: 0.7971067532377031\n",
      "Similarity with signature: 0.9268613221455649\n",
      "Similarity with signature: 0.8778426359822935\n",
      "Similarity with signature: 0.9144124573289033\n",
      "Similarity with signature: 0.8744476109228694\n",
      "Similarity with signature: 0.8781546273291755\n",
      "Similarity with signature: 0.90539422781064\n",
      "Similarity with signature: 0.9255750793842084\n",
      "Similarity with signature: 0.7907370504140037\n",
      "Similarity with signature: 0.8551956174587717\n",
      "Similarity with signature: 0.8347451111950386\n",
      "Similarity with signature: 0.8453145640627938\n",
      "Similarity with signature: 0.8921897736448791\n",
      "Similarity with signature: 0.7551954447144353\n",
      "Similarity with signature: 0.5671979840259694\n",
      "Similarity with signature: 0.6397157066336034\n",
      "Similarity with signature: 0.540063117451704\n",
      "Similarity with signature: 0.9075638287268386\n",
      "Similarity with signature: 0.750898795239439\n",
      "Similarity with signature: 0.7264116189883886\n"
     ]
    }
   ],
   "source": [
    "# let check with other blink events first\n",
    "epochs = hmi_dataloader.load_eeg_blinks(['BN002'], ['sample4', 'sample5', 'sample6'])\n",
    "df = epochs.pick(['Fp1', 'Fp2']).to_data_frame()\n",
    "data = []\n",
    "for i in range(df['epoch'].max() + 1):\n",
    "    data.append(df[df['epoch'] == i][['Fp1', 'Fp2']])\n",
    "data = np.asarray(data)\n",
    "data = normalize(data)\n",
    "\n",
    "for i in range(data.shape[0]):\n",
    "    print('Similarity with signature:', np.matmul(data[i], bl_sig))"
   ]
  },
  {
   "cell_type": "markdown",
   "metadata": {},
   "source": [
    "It seems 0.55 could be a good threshold!\n",
    "\n",
    "Let's test with raw eeg signal"
   ]
  },
  {
   "cell_type": "code",
   "execution_count": 27,
   "metadata": {},
   "outputs": [],
   "source": [
    "def get_typing_signals(sample_path):\n",
    "    raw_eeg = mne.io.read_raw_edf(SAMPLE_PATH + 'EEG.edf')\n",
    "    raw_eeg.load_data().pick(['Fp1', 'Fp2']).filter(2., 20.)\n",
    "    eeg_ts = pd.read_csv(SAMPLE_PATH + 'EEGTimeStamp.txt')\n",
    "    \n",
    "    # get typing annotation\n",
    "    try:\n",
    "        typing_annotation = next(filter(lambda a: a['description'] == 'Typing', raw_eeg.annotations))\n",
    "    except StopIteration:\n",
    "        print('Typing annotation not found for', sample_path)\n",
    "    \n",
    "    # to offset some misalignment in typing event in EEG and ET, we reduce the duration for 2 seconds, 1 at start, 1 at end\n",
    "    eeg_start = typing_annotation['onset'] + 1\n",
    "    eeg_end = eeg_start + typing_annotation['duration'] - 2\n",
    "    timestamp_start = typing_annotation['onset'] + eeg_ts.loc[0].item() + 1\n",
    "    timestamp_end = timestamp_start + typing_annotation['duration'] - 2\n",
    "    print('Extracting EEG from', eeg_start, 'to',  eeg_end, 'duration', eeg_end - eeg_start)\n",
    "    print('Extracting ET from', timestamp_start, 'to', timestamp_end, 'duration', timestamp_end - timestamp_start)\n",
    "    \n",
    "    # get EEG data\n",
    "    typing_eeg = raw_eeg.crop(tmin=eeg_start, tmax=eeg_end)\n",
    "    \n",
    "    # get ET dataframe\n",
    "    et_df = pd.read_csv(sample_path + 'ET.csv').rename(columns={'y': 'data', 'x': 'y', 'Data': 'x'})\n",
    "    et_df['TimeStampNorm'] = et_df['TimeStamp'] - et_df['TimeStamp'][0]\n",
    "\n",
    "    # get data corresponds to typing part\n",
    "    start_index = et_df[et_df['TimeStamp'] >= timestamp_start].head(1).index.item()\n",
    "    end_index = et_df[et_df['TimeStamp'] >= timestamp_end].head(1).index.item()\n",
    "    type_df = et_df[start_index:end_index]\n",
    "    \n",
    "    return typing_eeg, type_df"
   ]
  },
  {
   "cell_type": "code",
   "execution_count": 28,
   "metadata": {},
   "outputs": [],
   "source": [
    "def get_blink_eeg(eeg_raw, bl_sig, threshold):\n",
    "    # eeg_raw returns data as (channels, timepoint), so we transpose it\n",
    "    eeg_ndarray = eeg_raw.get_data().T\n",
    "    window_len = len(bl_sig)\n",
    "\n",
    "    blink_eeg = []\n",
    "    for i in range(0, eeg_ndarray.shape[0]-window_len, 1):\n",
    "        # the blink signature is 104\n",
    "        window = eeg_ndarray[i:i+window_len]\n",
    "        window = normalize(np.expand_dims(window, axis=0))\n",
    "\n",
    "        sim = np.matmul(window, bl_sig)\n",
    "        if sim > threshold:\n",
    "            blink_eeg.append([i, sim])\n",
    "        else:\n",
    "            blink_eeg.append([i, 0])\n",
    "    return np.asarray(blink_eeg)"
   ]
  },
  {
   "cell_type": "code",
   "execution_count": 29,
   "metadata": {},
   "outputs": [],
   "source": [
    "# blink corresponds to part where there are no eye movement\n",
    "def get_blink_et(et_df):\n",
    "    blink_et = []\n",
    "    start_blink = -1\n",
    "\n",
    "    # should not change existing dataframe\n",
    "    et_df = et_df.copy()\n",
    "    \n",
    "    # get different of eye movement\n",
    "    et_df['Xdiff'] = [*et_df['x'][1:], 0] - et_df['x']\n",
    "    et_df['Ydiff'] = [*et_df['y'][1:], 0] - et_df['y']\n",
    "    et_df = et_df.reset_index()\n",
    "    for i in range(len(et_df)):\n",
    "        if et_df.loc[i, 'Xdiff'] == 0 and et_df.loc[i, 'Ydiff'] == 0:\n",
    "            blink_et.append([i, 1])\n",
    "        else:\n",
    "            blink_et.append([i, 0])\n",
    "\n",
    "    for i in range(len(blink_et)):\n",
    "        if blink_et[i][1] == 1:\n",
    "            blink_et[i][1] = blink_et[i-1][1] + 1\n",
    "\n",
    "    cur = len(blink_et) - 1\n",
    "    while cur > 0:\n",
    "        if blink_et[cur][1] > 1:\n",
    "            while blink_et[cur][1] > 0:\n",
    "                blink_et[cur][1] = 1\n",
    "                cur -= 1\n",
    "        blink_et[cur][1] = 0\n",
    "        cur -= 1\n",
    "    return np.asarray(blink_et)"
   ]
  },
  {
   "cell_type": "code",
   "execution_count": 78,
   "metadata": {},
   "outputs": [
    {
     "name": "stdout",
     "output_type": "stream",
     "text": [
      "Extracting EDF parameters from /home/peara/projects/hmi-bci-dataset/data/BN002/sample1/EEG.edf...\n",
      "EDF file detected\n",
      "Setting channel info structure...\n",
      "Creating raw.info structure...\n",
      "Extracting EDF parameters from /home/peara/projects/hmi-bci-dataset/data/BN002/sample2/EEG.edf...\n",
      "EDF file detected\n",
      "Setting channel info structure...\n",
      "Creating raw.info structure...\n",
      "Extracting EDF parameters from /home/peara/projects/hmi-bci-dataset/data/BN002/sample3/EEG.edf...\n",
      "EDF file detected\n",
      "Setting channel info structure...\n",
      "Creating raw.info structure...\n",
      "Extracting EDF parameters from /home/peara/projects/hmi-bci-dataset/data/BN002/sample4/EEG.edf...\n",
      "EDF file detected\n",
      "Setting channel info structure...\n",
      "Creating raw.info structure...\n",
      "Extracting EDF parameters from /home/peara/projects/hmi-bci-dataset/data/BN002/sample5/EEG.edf...\n",
      "EDF file detected\n",
      "Setting channel info structure...\n",
      "Creating raw.info structure...\n",
      "Extracting EDF parameters from /home/peara/projects/hmi-bci-dataset/data/BN002/sample6/EEG.edf...\n",
      "EDF file detected\n",
      "Setting channel info structure...\n",
      "Creating raw.info structure...\n",
      "Extracting EDF parameters from /home/peara/projects/hmi-bci-dataset/data/BN002/sample7/EEG.edf...\n",
      "EDF file detected\n",
      "Setting channel info structure...\n",
      "Creating raw.info structure...\n",
      "Extracting EDF parameters from /home/peara/projects/hmi-bci-dataset/data/BN002/sample8/EEG.edf...\n",
      "EDF file detected\n",
      "Setting channel info structure...\n",
      "Creating raw.info structure...\n",
      "Extracting EDF parameters from /home/peara/projects/hmi-bci-dataset/data/BN002/sample9/EEG.edf...\n",
      "EDF file detected\n",
      "Setting channel info structure...\n",
      "Creating raw.info structure...\n",
      "Length EDF [27648, 22784, 25856, 24576, 25216, 22656, 17920, 20608, 15232]\n",
      "Length TS [27648, 22752, 25760, 24512, 25184, 22560, 17920, 20512, 15200]\n"
     ]
    }
   ],
   "source": [
    "len_edf = []\n",
    "len_ts = []\n",
    "for i in range(1,10): \n",
    "    sample_path = f'../data/BN002/sample{i}/'\n",
    "    eeg_raw = mne.io.read_raw_edf(sample_path + 'EEG.edf')\n",
    "    eeg_ts = np.genfromtxt(sample_path + 'EEGTimeStamp.txt')\n",
    "    len_edf.append(len(eeg_raw))\n",
    "    len_ts.append(len(eeg_ts))\n",
    "    \n",
    "print('Length EDF', len_edf)\n",
    "print('Length TS', len_ts)"
   ]
  },
  {
   "cell_type": "code",
   "execution_count": 79,
   "metadata": {},
   "outputs": [
    {
     "data": {
      "text/plain": [
       "array([ 0, 32, 96, 64, 32, 96,  0, 96, 32])"
      ]
     },
     "execution_count": 79,
     "metadata": {},
     "output_type": "execute_result"
    }
   ],
   "source": [
    "len_edf = np.asarray(len_edf)\n",
    "len_ts = np.asarray(len_ts)\n",
    "\n",
    "len_edf - len_ts"
   ]
  },
  {
   "cell_type": "code",
   "execution_count": 61,
   "metadata": {},
   "outputs": [
    {
     "data": {
      "text/plain": [
       "15232"
      ]
     },
     "execution_count": 61,
     "metadata": {},
     "output_type": "execute_result"
    }
   ],
   "source": [
    "len(eeg_raw)"
   ]
  },
  {
   "cell_type": "code",
   "execution_count": 86,
   "metadata": {},
   "outputs": [
    {
     "name": "stdout",
     "output_type": "stream",
     "text": [
      "Extracting EDF parameters from /home/peara/projects/hmi-bci-dataset/data/BN002/sample9/EEG.edf...\n",
      "EDF file detected\n",
      "Setting channel info structure...\n",
      "Creating raw.info structure...\n",
      "Reading 0 ... 15231  =      0.000 ...   118.992 secs...\n",
      "Filtering raw data in 1 contiguous segment\n",
      "Setting up band-pass filter from 2 - 20 Hz\n",
      "\n",
      "FIR filter parameters\n",
      "---------------------\n",
      "Designing a one-pass, zero-phase, non-causal bandpass filter:\n",
      "- Windowed time-domain design (firwin) method\n",
      "- Hamming window with 0.0194 passband ripple and 53 dB stopband attenuation\n",
      "- Lower passband edge: 2.00\n",
      "- Lower transition bandwidth: 2.00 Hz (-6 dB cutoff frequency: 1.00 Hz)\n",
      "- Upper passband edge: 20.00 Hz\n",
      "- Upper transition bandwidth: 5.00 Hz (-6 dB cutoff frequency: 22.50 Hz)\n",
      "- Filter length: 213 samples (1.664 sec)\n",
      "\n",
      "Extracting EEG from 50.3257 to 112.4307 duration 62.105000000000004\n",
      "Extracting ET from 108990.5136397 to 109052.6186397 duration 62.104999999995925\n"
     ]
    }
   ],
   "source": [
    "# typing_eeg, typing_et = get_typing_signals(SAMPLE_PATH)\n",
    "import importlib\n",
    "importlib.reload(hmi_dataloader)\n",
    "\n",
    "typing_eeg, typing_et = hmi_dataloader.get_typing_signals('BN002', 'sample9')"
   ]
  },
  {
   "cell_type": "code",
   "execution_count": 41,
   "metadata": {},
   "outputs": [
    {
     "data": {
      "image/png": "[encoded data removed]",
      "text/plain": [
       "<MNEBrowseFigure size 889.92x495.36 with 4 Axes>"
      ]
     },
     "metadata": {
      "needs_background": "light"
     },
     "output_type": "display_data"
    }
   ],
   "source": [
    "# typing_eeg = mne.io.read_raw_edf('../data/BN002/sample6/EEG.edf')\n",
    "# typing_eeg.load_data().pick(['Fp1', 'Fp2']).filter(2., 20.)\n",
    "typing_eeg.plot(scalings=0.1, duration=100);"
   ]
  },
  {
   "cell_type": "markdown",
   "metadata": {},
   "source": [
    "### Detect blinks from EEG signal"
   ]
  },
  {
   "cell_type": "code",
   "execution_count": 42,
   "metadata": {},
   "outputs": [
    {
     "name": "stderr",
     "output_type": "stream",
     "text": [
      "/home/peara/.local/lib/python3.8/site-packages/numpy/core/_asarray.py:102: VisibleDeprecationWarning: Creating an ndarray from ragged nested sequences (which is a list-or-tuple of lists-or-tuples-or ndarrays with different lengths or shapes) is deprecated. If you meant to do this, you must specify 'dtype=object' when creating the ndarray.\n",
      "  return array(a, dtype, copy=False, order=order)\n"
     ]
    }
   ],
   "source": [
    "THRESHOLD = 0.65\n",
    "blink_eeg = get_blink_eeg(typing_eeg, bl_sig, THRESHOLD)"
   ]
  },
  {
   "cell_type": "code",
   "execution_count": 43,
   "metadata": {},
   "outputs": [
    {
     "data": {
      "text/plain": [
       "[<matplotlib.lines.Line2D at 0x7f3f8080d9a0>]"
      ]
     },
     "execution_count": 43,
     "metadata": {},
     "output_type": "execute_result"
    },
    {
     "data": {
      "image/png": "[encoded data removed]",
      "text/plain": [
       "<Figure size 432x288 with 1 Axes>"
      ]
     },
     "metadata": {
      "needs_background": "light"
     },
     "output_type": "display_data"
    }
   ],
   "source": [
    "plt.plot(blink_eeg[:, 0], blink_eeg[:, 1])"
   ]
  },
  {
   "cell_type": "markdown",
   "metadata": {},
   "source": [
    "### Detect blinks from ET signal"
   ]
  },
  {
   "cell_type": "code",
   "execution_count": 44,
   "metadata": {},
   "outputs": [
    {
     "data": {
      "text/plain": [
       "array([[   0,    0],\n",
       "       [   1,    0],\n",
       "       [   2,    0],\n",
       "       ...,\n",
       "       [3724,    1],\n",
       "       [3725,    1],\n",
       "       [3726,    0]])"
      ]
     },
     "execution_count": 44,
     "metadata": {},
     "output_type": "execute_result"
    }
   ],
   "source": [
    "blink_et = get_blink_et(typing_et)\n",
    "blink_et"
   ]
  },
  {
   "cell_type": "markdown",
   "metadata": {},
   "source": [
    "### Detect blinks from video"
   ]
  },
  {
   "cell_type": "code",
   "execution_count": 46,
   "metadata": {},
   "outputs": [],
   "source": [
    "from hbd.utils.blink import detect_blink_video\n",
    "\n",
    "blink_video = detect_blink_video('BN002', 'sample9')"
   ]
  },
  {
   "cell_type": "markdown",
   "metadata": {},
   "source": [
    "### Plot blinks from EEG and ET"
   ]
  },
  {
   "cell_type": "code",
   "execution_count": 47,
   "metadata": {},
   "outputs": [
    {
     "name": "stdout",
     "output_type": "stream",
     "text": [
      "61.3984375 61.416666666666664\n"
     ]
    }
   ],
   "source": [
    "# because of differences in algorithms, the length of blink detection from ET and EEG do not match, so we strip some from the end of ET to make them match\n",
    "et_eeg_dif = len(bl_sig) * 60 // 128\n",
    "print(blink_eeg.shape[0]/128, (blink_et.shape[0] - et_eeg_dif)/60)"
   ]
  },
  {
   "cell_type": "code",
   "execution_count": 48,
   "metadata": {},
   "outputs": [
    {
     "data": {
      "text/plain": [
       "[<matplotlib.lines.Line2D at 0x7f3f80856130>]"
      ]
     },
     "execution_count": 48,
     "metadata": {},
     "output_type": "execute_result"
    },
    {
     "data": {
      "image/png": "[encoded data removed]",
      "text/plain": [
       "<Figure size 432x288 with 2 Axes>"
      ]
     },
     "metadata": {
      "needs_background": "light"
     },
     "output_type": "display_data"
    }
   ],
   "source": [
    "fig, axs = plt.subplots(2)\n",
    "fig.suptitle('Eyeblink detections')\n",
    "axs[0].plot(blink_eeg[:, 0] / 128, blink_eeg[:, 1])\n",
    "axs[1].plot(blink_et[:-et_eeg_dif, 0] / 60, blink_et[:-et_eeg_dif, 1])\n",
    "# axs[2].plot(blink_video[:, 0] / 30, blink_video[:, 1], '.')"
   ]
  },
  {
   "cell_type": "code",
   "execution_count": 80,
   "metadata": {},
   "outputs": [],
   "source": [
    "import pprint\n",
    "import math\n",
    "\"\"\"\n",
    "Matching element of 2 series of events X and Y so that the distance in times between them is minimized.\n",
    "\n",
    "Some constrains:\n",
    "- 2 elements can be matched if the differences in times is less than 1 second.\n",
    "- 1 element can be matched with 0 or 1 element.\n",
    "- distance between 2 series is calculated as total differences in second of matched elements plus 1 per unmatched elements.\n",
    "\n",
    "Input:\n",
    "- 2 series of timestamps of events\n",
    "- Assume to start at 0\n",
    "- Assume to end at last element\n",
    "\n",
    "Output:\n",
    "- list of tuple of matched ids (x, y) in ascending order\n",
    "- minimum total distance\n",
    "\"\"\"\n",
    "def match_ts_eq_len(X, Y, threshold=1., offset=0):\n",
    "#     assert abs(X[-1] - Y[-1] - offset) <= 1.\n",
    "    matches = []\n",
    "    dist = 0\n",
    "    \n",
    "    dp = [[1000 for i in range(len(Y)+1)] for j in range(len(X)+1)]\n",
    "    for i in range(len(Y)+1):\n",
    "        dp[len(X)][i] = len(Y) - i \n",
    "    for j in range(len(X)+1):\n",
    "        dp[j][len(Y)] = len(X) - j\n",
    "\n",
    "    for i in reversed(range(len(X))):\n",
    "        for j in reversed(range(len(Y))):\n",
    "            if abs(X[i] - Y[j] - offset) < threshold:\n",
    "                dp[i][j] = min(dp[i][j], dp[i+1][j+1] + abs(X[i] - Y[j] - offset))\n",
    "            dp[i][j] = min(dp[i][j], min(dp[i+1][j], dp[i][j+1]) + 1)\n",
    "    \n",
    "    cur = (0,0)\n",
    "    while cur[0] < len(X) and cur[1] < len(Y):\n",
    "        i = cur[0]\n",
    "        j = cur[1]\n",
    "        if abs(X[i] - Y[j] - offset) < threshold and math.isclose(dp[i][j], dp[i+1][j+1] + abs(X[i] - Y[j] - offset)):\n",
    "            matches.append(cur)\n",
    "            cur = (i+1, j+1)\n",
    "        elif dp[i][j] == dp[i+1][j] + 1:\n",
    "            cur = (i+1, j)\n",
    "        elif dp[i][j] == dp[i][j+1] + 1:\n",
    "            cur = (i, j+1)\n",
    "        else:\n",
    "            raise('WRONG!')\n",
    "    \n",
    "    return matches, dp[0][0]"
   ]
  },
  {
   "cell_type": "code",
   "execution_count": 81,
   "metadata": {},
   "outputs": [],
   "source": [
    "import bisect\n",
    "\"\"\"\n",
    "Matching element of 2 series of events X and Y so that the distance in times between them is minimized.\n",
    "2 series can differ in length. \n",
    "When there is a different in length, X must be the shorter one.\n",
    "\n",
    "Steps:\n",
    "- Try every posible first match estimated last match accordingly.\n",
    "- Using match_ts_eq_len to calculate the best distance\n",
    "\"\"\"\n",
    "def match_ts(X, Y, threshold=1.):\n",
    "    matches, dist = [], 1000\n",
    "    best_offset = -1\n",
    "    \n",
    "    # if there is differences in length\n",
    "    if abs(X[-1] - Y[-1]) > 1:\n",
    "        for offset in range(abs(int(X[-1] - Y[-1])) + 1):\n",
    "            if X[-1] > Y[-1]:\n",
    "                raise Exception('First series should be shorter than second series')\n",
    "            st = bisect.bisect_left(Y, offset)\n",
    "            fn = bisect.bisect_right(Y, X[-1] + offset)\n",
    "            tm, td = match_ts_eq_len(X, Y[st:fn], threshold, -offset)\n",
    "            if td < dist:\n",
    "                matches = tm\n",
    "                dist = td\n",
    "                best_offset = offset\n",
    "        \n",
    "        st = bisect.bisect_left(Y, best_offset)\n",
    "        matches = [(el[0], el[1] + st) for el in matches]\n",
    "        \n",
    "        diff = []\n",
    "        for match in matches:\n",
    "            diff.append(X[match[0]] - Y[match[1]] + best_offset)\n",
    "\n",
    "        diff = np.asarray(diff)\n",
    "        print('DIFF', diff)\n",
    "        print('OFFSET', best_offset)\n",
    "        \n",
    "        # in the case the true offset is not a whole number (most of the time), the mean differences will reflect the differences between true offset and the found offset\n",
    "        return matches, dist, best_offset - np.mean(diff)\n",
    "    else:\n",
    "        return *match_ts_eq_len(X, Y, threshold), 0"
   ]
  },
  {
   "cell_type": "code",
   "execution_count": 51,
   "metadata": {},
   "outputs": [
    {
     "data": {
      "text/plain": [
       "array([ 4.78125 , 11.484375, 15.953125, 26.0625  , 33.40625 , 50.8125  ,\n",
       "       58.828125])"
      ]
     },
     "execution_count": 51,
     "metadata": {},
     "output_type": "execute_result"
    }
   ],
   "source": [
    "# combine consecutive matches into 1 blink event\n",
    "blink_eeg_m = []\n",
    "\n",
    "cur = 0\n",
    "while cur < len(blink_eeg):\n",
    "    if blink_eeg[cur][1] > 0:\n",
    "        blink_eeg_m.append(blink_eeg[cur][0] / 128)\n",
    "        while blink_eeg[cur][1] > 0:\n",
    "            cur += 1\n",
    "    else:\n",
    "        cur += 1\n",
    "blink_eeg_m = np.asarray(blink_eeg_m)\n",
    "blink_eeg_m"
   ]
  },
  {
   "cell_type": "code",
   "execution_count": 52,
   "metadata": {},
   "outputs": [
    {
     "data": {
      "text/plain": [
       "array([ 4.73333333, 11.45      , 15.91666667, 26.03333333, 33.38333333,\n",
       "       50.78333333, 58.8       , 61.9       , 62.06666667])"
      ]
     },
     "execution_count": 52,
     "metadata": {},
     "output_type": "execute_result"
    }
   ],
   "source": [
    "# combine consecutive matches into 1 blink event\n",
    "blink_et_m = []\n",
    "\n",
    "cur = 0\n",
    "while cur < len(blink_et):\n",
    "    if blink_et[cur][1] > 0:\n",
    "        blink_et_m.append(blink_et[cur][0] / 60)\n",
    "        while blink_et[cur][1] > 0:\n",
    "            cur += 1\n",
    "    else:\n",
    "        cur += 1\n",
    "        \n",
    "blink_et_m = np.asarray(blink_et_m)\n",
    "blink_et_m"
   ]
  },
  {
   "cell_type": "markdown",
   "metadata": {},
   "source": [
    "## Matching EEG and Video"
   ]
  },
  {
   "cell_type": "code",
   "execution_count": 53,
   "metadata": {},
   "outputs": [],
   "source": [
    "blink_video_m = np.asarray(list(blink_video))"
   ]
  },
  {
   "cell_type": "code",
   "execution_count": 76,
   "metadata": {},
   "outputs": [
    {
     "name": "stdout",
     "output_type": "stream",
     "text": [
      "DIFF [0.08645833 0.028125  ]\n",
      "OFFSET 50\n"
     ]
    }
   ],
   "source": [
    "matches_eeg_video, dist_eeg_video, offset_eeg_video = match_ts(blink_eeg_m, blink_video_m)"
   ]
  },
  {
   "cell_type": "code",
   "execution_count": 77,
   "metadata": {},
   "outputs": [
    {
     "data": {
      "text/plain": [
       "(49.94270833333333, [(2, 34), (6, 35)])"
      ]
     },
     "execution_count": 77,
     "metadata": {},
     "output_type": "execute_result"
    }
   ],
   "source": [
    "offset_eeg_video, matches_eeg_video"
   ]
  },
  {
   "cell_type": "code",
   "execution_count": 60,
   "metadata": {},
   "outputs": [
    {
     "name": "stdout",
     "output_type": "stream",
     "text": [
      "Number of unmatches: 41\n"
     ]
    }
   ],
   "source": [
    "unmatched = len(blink_eeg_m) + len(blink_video_m) - 2 * len(matches_eeg_video)\n",
    "print(f'Number of unmatches: {unmatched}')"
   ]
  },
  {
   "cell_type": "code",
   "execution_count": 78,
   "metadata": {},
   "outputs": [],
   "source": [
    "diff = []\n",
    "for match in matches_eeg_video:\n",
    "    diff.append(blink_eeg_m[match[0]] - blink_video_m[match[1]] + offset_eeg_video)\n",
    "    \n",
    "diff = np.asarray(diff)"
   ]
  },
  {
   "cell_type": "code",
   "execution_count": 79,
   "metadata": {},
   "outputs": [
    {
     "name": "stdout",
     "output_type": "stream",
     "text": [
      "[ 0.02916667 -0.02916667]\n"
     ]
    },
    {
     "data": {
      "text/plain": [
       "0.0"
      ]
     },
     "execution_count": 79,
     "metadata": {},
     "output_type": "execute_result"
    }
   ],
   "source": [
    "print(diff)\n",
    "diff.mean()"
   ]
  },
  {
   "cell_type": "markdown",
   "metadata": {},
   "source": [
    "## Matching EEG and ET"
   ]
  },
  {
   "cell_type": "code",
   "execution_count": 63,
   "metadata": {},
   "outputs": [],
   "source": [
    "matches_eeg_et, dist_eeg_et, offset_eeg_et = match_ts(blink_eeg_m, blink_et_m)"
   ]
  },
  {
   "cell_type": "code",
   "execution_count": 80,
   "metadata": {},
   "outputs": [
    {
     "data": {
      "text/plain": [
       "<matplotlib.collections.LineCollection at 0x7f3f809f55b0>"
      ]
     },
     "execution_count": 80,
     "metadata": {},
     "output_type": "execute_result"
    },
    {
     "data": {
      "image/png": "[encoded data removed]",
      "text/plain": [
       "<Figure size 1080x360 with 1 Axes>"
      ]
     },
     "metadata": {
      "needs_background": "light"
     },
     "output_type": "display_data"
    }
   ],
   "source": [
    "from matplotlib import collections  as mc\n",
    "\n",
    "lines_eeg_video = [[(blink_eeg_m[match[0]], 0.5), (blink_video_m[match[1]] - offset_eeg_video, 1)] for match in matches_eeg_video]\n",
    "lines_eeg_et = [[(blink_eeg_m[match[0]], 0.5), (blink_et_m[match[1]] - offset_eeg_et, 0)] for match in matches_eeg_et]\n",
    "\n",
    "lc1 = mc.LineCollection(lines_eeg_video, linewidths=1, colors='orange')\n",
    "lc2 = mc.LineCollection(lines_eeg_et, linewidths=1)\n",
    "fig, ax = plt.subplots()\n",
    "fig.set_size_inches(15, 5)\n",
    "\n",
    "ax.plot(blink_et_m - offset_eeg_et, [0] * len(blink_et_m), 'x')\n",
    "ax.plot(blink_eeg_m, [0.5] * len(blink_eeg_m), 'o')\n",
    "ax.plot(blink_video_m - offset_eeg_video, [1] * len(blink_video_m), 'x')\n",
    "ax.add_collection(lc1)\n",
    "ax.add_collection(lc2)"
   ]
  },
  {
   "cell_type": "code",
   "execution_count": 82,
   "metadata": {},
   "outputs": [],
   "source": [
    "from hbd.utils.blink import detect_blink_video\n",
    "from hbd.utils import dataloader as hmi_dataloader\n",
    "from matplotlib import collections  as mc\n",
    "\n",
    "def match_blink_all(subject, sample, bl_sig):\n",
    "    typing_eeg, typing_et = hmi_dataloader.get_typing_signals(subject, sample)\n",
    "\n",
    "    # EEG signal\n",
    "    THRESHOLD = 0.65\n",
    "    blink_eeg = get_blink_eeg(typing_eeg, bl_sig, THRESHOLD)\n",
    "    blink_eeg_m = []\n",
    "\n",
    "    cur = 0\n",
    "    while cur < len(blink_eeg):\n",
    "        if blink_eeg[cur][1] > 0:\n",
    "            blink_eeg_m.append(blink_eeg[cur][0] / 128)\n",
    "            while blink_eeg[cur][1] > 0:\n",
    "                cur += 1\n",
    "        else:\n",
    "            cur += 1\n",
    "    blink_eeg_m = np.asarray(blink_eeg_m)\n",
    "    \n",
    "    # ET signal\n",
    "    blink_et = get_blink_et(typing_et)\n",
    "    blink_et_m = []\n",
    "\n",
    "    cur = 0\n",
    "    while cur < len(blink_et):\n",
    "        if blink_et[cur][1] > 0:\n",
    "            blink_et_m.append(blink_et[cur][0] / 60)\n",
    "            while blink_et[cur][1] > 0:\n",
    "                cur += 1\n",
    "        else:\n",
    "            cur += 1\n",
    "    blink_et_m = np.asarray(blink_et_m)\n",
    "\n",
    "    # video\n",
    "    blink_video = detect_blink_video(subject, sample)\n",
    "    blink_video_m = np.asarray(list(blink_video))\n",
    "    \n",
    "    # matching\n",
    "    matches_eeg_video, dist_eeg_video, offset_eeg_video = match_ts(blink_eeg_m, blink_video_m)\n",
    "    matches_eeg_et, dist_eeg_et, offset_eeg_et = match_ts(blink_eeg_m, blink_et_m)\n",
    "    \n",
    "    # plot\n",
    "    lines_eeg_video = [[(blink_eeg_m[match[0]], 0.5), (blink_video_m[match[1]] - offset_eeg_video, 1)] for match in matches_eeg_video]\n",
    "    lines_eeg_et = [[(blink_eeg_m[match[0]], 0.5), (blink_et_m[match[1]] - offset_eeg_et, 0)] for match in matches_eeg_et]\n",
    "\n",
    "    lc1 = mc.LineCollection(lines_eeg_video, linewidths=1, colors='orange')\n",
    "    lc2 = mc.LineCollection(lines_eeg_et, linewidths=1)\n",
    "    fig, ax = plt.subplots()\n",
    "    fig.set_size_inches(15, 5)\n",
    "\n",
    "    ax.plot(blink_et_m - offset_eeg_et, [0] * len(blink_et_m), 'x')\n",
    "    ax.plot(blink_eeg_m, [0.5] * len(blink_eeg_m), 'o')\n",
    "    ax.plot(blink_video_m - offset_eeg_video, [1] * len(blink_video_m), 'x')\n",
    "    ax.add_collection(lc1)\n",
    "    ax.add_collection(lc2)"
   ]
  },
  {
   "cell_type": "code",
   "execution_count": 92,
   "metadata": {},
   "outputs": [
    {
     "name": "stdout",
     "output_type": "stream",
     "text": [
      "Extracting EDF parameters from /home/peara/projects/hmi-bci-dataset/data/BN002/sample8/EEG.edf...\n",
      "EDF file detected\n",
      "Setting channel info structure...\n",
      "Creating raw.info structure...\n",
      "Reading 0 ... 20607  =      0.000 ...   160.992 secs...\n",
      "Filtering raw data in 1 contiguous segment\n",
      "Setting up band-pass filter from 2 - 20 Hz\n",
      "\n",
      "FIR filter parameters\n",
      "---------------------\n",
      "Designing a one-pass, zero-phase, non-causal bandpass filter:\n",
      "- Windowed time-domain design (firwin) method\n",
      "- Hamming window with 0.0194 passband ripple and 53 dB stopband attenuation\n",
      "- Lower passband edge: 2.00\n",
      "- Lower transition bandwidth: 2.00 Hz (-6 dB cutoff frequency: 1.00 Hz)\n",
      "- Upper passband edge: 20.00 Hz\n",
      "- Upper transition bandwidth: 5.00 Hz (-6 dB cutoff frequency: 22.50 Hz)\n",
      "- Filter length: 213 samples (1.664 sec)\n",
      "\n",
      "Extracting EEG from 59.1062 to 152.9197 duration 93.8135\n",
      "Extracting ET from 108820.2641439 to 108914.0776439 duration 93.81350000000384\n"
     ]
    },
    {
     "name": "stderr",
     "output_type": "stream",
     "text": [
      "/home/peara/.local/lib/python3.8/site-packages/numpy/core/_asarray.py:102: VisibleDeprecationWarning: Creating an ndarray from ragged nested sequences (which is a list-or-tuple of lists-or-tuples-or ndarrays with different lengths or shapes) is deprecated. If you meant to do this, you must specify 'dtype=object' when creating the ndarray.\n",
      "  return array(a, dtype, copy=False, order=order)\n"
     ]
    },
    {
     "name": "stdout",
     "output_type": "stream",
     "text": [
      "DIFF [0.35416667 0.39010417 0.40833333 0.29010417 0.25572917 0.3671875\n",
      " 0.40677083 0.3546875  0.30572917 0.278125  ]\n",
      "OFFSET 59\n"
     ]
    },
    {
     "data": {
      "image/png": "[encoded data removed]",
      "text/plain": [
       "<Figure size 1080x360 with 1 Axes>"
      ]
     },
     "metadata": {
      "needs_background": "light"
     },
     "output_type": "display_data"
    }
   ],
   "source": [
    "match_blink_all('BN002', 'sample8', bl_sig)"
   ]
  },
  {
   "cell_type": "code",
   "execution_count": null,
   "metadata": {},
   "outputs": [],
   "source": []
  }
 ],
 "metadata": {
  "kernelspec": {
   "display_name": "Python 3",
   "language": "python",
   "name": "python3"
  },
  "language_info": {
   "codemirror_mode": {
    "name": "ipython",
    "version": 3
   },
   "file_extension": ".py",
   "mimetype": "text/x-python",
   "name": "python",
   "nbconvert_exporter": "python",
   "pygments_lexer": "ipython3",
   "version": "3.6.8"
  }
 },
 "nbformat": 4,
 "nbformat_minor": 5
}
