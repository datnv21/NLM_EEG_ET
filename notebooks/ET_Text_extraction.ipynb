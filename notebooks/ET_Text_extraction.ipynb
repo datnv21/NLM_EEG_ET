{
 "cells": [
  {
   "cell_type": "code",
   "execution_count": 1,
   "metadata": {},
   "outputs": [],
   "source": [
    "import os\n",
    "from csv import DictReader"
   ]
  },
  {
   "cell_type": "code",
   "execution_count": 2,
   "metadata": {},
   "outputs": [],
   "source": [
    "import re"
   ]
  },
  {
   "cell_type": "markdown",
   "metadata": {},
   "source": [
    "## Constant Variables"
   ]
  },
  {
   "cell_type": "code",
   "execution_count": 18,
   "metadata": {},
   "outputs": [],
   "source": [
    "EEG_timestamp_path = \"DataVIN/HMI01/sample3/EEGTimeStamp.txt\""
   ]
  },
  {
   "cell_type": "code",
   "execution_count": 19,
   "metadata": {},
   "outputs": [],
   "source": [
    "ET_text_path = \"DataVIN/HMI01/sample3/ET.csv\""
   ]
  },
  {
   "cell_type": "code",
   "execution_count": 20,
   "metadata": {},
   "outputs": [],
   "source": [
    "vn_re = '[^a-z0-9A-Z_ÀÁÂÃÈÉÊÌÍÒÓÔÕÙÚĂĐĨŨƠàáâãèéêìíòóôõùúăđĩũơƯĂẠẢẤẦẨẪẬẮẰẲẴẶẸẺẼỀỀỂưăạảấầẩẫậắằẳẵặẹẻẽềềểỄỆỈỊỌỎỐỒỔỖỘỚỜỞỠỢỤỦỨỪễệỉịọỏốồổỗộớờởỡợụủứừỬỮỰỲỴÝỶỸửữựỳỵỷỹ: \\n\\.]'"
   ]
  },
  {
   "cell_type": "markdown",
   "metadata": {},
   "source": [
    "## Load data"
   ]
  },
  {
   "cell_type": "code",
   "execution_count": 21,
   "metadata": {},
   "outputs": [],
   "source": [
    "with open(EEG_timestamp_path, \"r\") as f:\n",
    "    timestamps = f.readlines()"
   ]
  },
  {
   "cell_type": "code",
   "execution_count": 22,
   "metadata": {},
   "outputs": [
    {
     "data": {
      "text/plain": [
       "11520"
      ]
     },
     "execution_count": 22,
     "metadata": {},
     "output_type": "execute_result"
    }
   ],
   "source": [
    "len(timestamps)"
   ]
  },
  {
   "cell_type": "code",
   "execution_count": 23,
   "metadata": {},
   "outputs": [],
   "source": [
    "# timestamps"
   ]
  },
  {
   "cell_type": "code",
   "execution_count": 24,
   "metadata": {},
   "outputs": [],
   "source": [
    "et_text_data = {\"data\": [], \"timestamp\": []}\n",
    "\n",
    "with open(ET_text_path, \"r\") as f:\n",
    "    csv_dict_reader = DictReader(f)\n",
    "    \n",
    "    for idx, row in enumerate(csv_dict_reader):\n",
    "        et_text_data[\"data\"].append(row['Data'])\n",
    "        et_text_data[\"timestamp\"].append(row['TimeStamp'])"
   ]
  },
  {
   "cell_type": "code",
   "execution_count": 25,
   "metadata": {},
   "outputs": [
    {
     "data": {
      "text/plain": [
       "5644"
      ]
     },
     "execution_count": 25,
     "metadata": {},
     "output_type": "execute_result"
    }
   ],
   "source": [
    "len(et_text_data['timestamp'])"
   ]
  },
  {
   "cell_type": "code",
   "execution_count": 26,
   "metadata": {},
   "outputs": [
    {
     "data": {
      "text/plain": [
       "[\"['(0.5265708, 0.6193184, 0) : tra : nâng chân tr']\",\n",
       " \"['(0.5262952, 0.6185154, 0) : tra : nâng chân tr']\",\n",
       " \"['(0.5250674, 0.6157579, 0) : tra : nâng chân tr']\",\n",
       " \"['(0.5249372, 0.6155266, 0) : tra : nâng chân tr']\",\n",
       " \"['(0.5242299, 0.6155162, 0) : tra : nâng chân tr']\",\n",
       " \"['(0.5244044, 0.6154656, 0) : tra : nâng chân tr']\",\n",
       " \"['(0.5257536, 0.6150305, 0) : tra : nâng chân tr']\",\n",
       " \"['(0.5261365, 0.6146417, 0) : tra : nâng chân tr']\",\n",
       " \"['(0.5265294, 0.6139088, 0) : tra : nâng chân tr']\",\n",
       " \"['(0.5266536, 0.6134605, 0) : tra : nâng chân tr']\"]"
      ]
     },
     "execution_count": 26,
     "metadata": {},
     "output_type": "execute_result"
    }
   ],
   "source": [
    "et_text_data['data'][4990:5000]"
   ]
  },
  {
   "cell_type": "code",
   "execution_count": 27,
   "metadata": {},
   "outputs": [
    {
     "data": {
      "text/plain": [
       "5644"
      ]
     },
     "execution_count": 27,
     "metadata": {},
     "output_type": "execute_result"
    }
   ],
   "source": [
    "len(et_text_data[\"data\"])"
   ]
  },
  {
   "cell_type": "code",
   "execution_count": 11,
   "metadata": {},
   "outputs": [
    {
     "data": {
      "text/plain": [
       "'0.8117222 0.595879 0 : phă : nâng tay ph'"
      ]
     },
     "execution_count": 11,
     "metadata": {},
     "output_type": "execute_result"
    }
   ],
   "source": [
    "s = et_text_data[\"data\"][5000]\n",
    "s = re.sub(vn_re, '', s)\n",
    "s"
   ]
  },
  {
   "cell_type": "code",
   "execution_count": 57,
   "metadata": {},
   "outputs": [],
   "source": [
    "s = s.split(\":\")"
   ]
  },
  {
   "cell_type": "code",
   "execution_count": 58,
   "metadata": {},
   "outputs": [
    {
     "data": {
      "text/plain": [
       "['0.8117222 0.595879 0 ', ' phă ', ' nâng tay ph']"
      ]
     },
     "execution_count": 58,
     "metadata": {},
     "output_type": "execute_result"
    }
   ],
   "source": [
    "s"
   ]
  },
  {
   "cell_type": "code",
   "execution_count": 87,
   "metadata": {},
   "outputs": [],
   "source": [
    "def elect_text_timestamp(et_text_data):\n",
    "    et_text = {\"text\": [], \"timestamp\": []}\n",
    "    data_length = len(et_text_data[\"data\"])\n",
    "    \n",
    "    for i in range(data_length):\n",
    "        timestamp = et_text_data[\"timestamp\"][i]\n",
    "        text = et_text_data[\"data\"][i]\n",
    "        text = re.sub(vn_re, '', text)\n",
    "        text = text.split(':')\n",
    "        sentence = text[-1].strip()\n",
    "        \n",
    "        if len(sentence.split(\" \")) > 1:\n",
    "            if sentence not in et_text[\"text\"]:\n",
    "                et_text[\"text\"].append(sentence)\n",
    "                et_text[\"timestamp\"].append(timestamp)\n",
    "        \n",
    "    return et_text"
   ]
  },
  {
   "cell_type": "code",
   "execution_count": 88,
   "metadata": {},
   "outputs": [],
   "source": [
    "et_text = elect_text_timestamp(et_text_data)"
   ]
  },
  {
   "cell_type": "code",
   "execution_count": 89,
   "metadata": {},
   "outputs": [
    {
     "data": {
      "text/plain": [
       "{'text': ['nâng t',\n",
       "  'nâng ta',\n",
       "  'nâng tay',\n",
       "  'nâng tay p',\n",
       "  'nâng tay ph',\n",
       "  'nâng tay pha',\n",
       "  'nâng tay phai',\n",
       "  'nâng tay phải'],\n",
       " 'timestamp': ['105413.2099434',\n",
       "  '105417.2608513',\n",
       "  '105419.9486951',\n",
       "  '105431.1209209',\n",
       "  '105434.5359792',\n",
       "  '105438.1389462',\n",
       "  '105440.1230317',\n",
       "  '105442.4503111']}"
      ]
     },
     "execution_count": 89,
     "metadata": {},
     "output_type": "execute_result"
    }
   ],
   "source": [
    "et_text"
   ]
  },
  {
   "cell_type": "code",
   "execution_count": null,
   "metadata": {},
   "outputs": [],
   "source": []
  }
 ],
 "metadata": {
  "kernelspec": {
   "display_name": "Python 3",
   "language": "python",
   "name": "python3"
  },
  "language_info": {
   "codemirror_mode": {
    "name": "ipython",
    "version": 3
   },
   "file_extension": ".py",
   "mimetype": "text/x-python",
   "name": "python",
   "nbconvert_exporter": "python",
   "pygments_lexer": "ipython3",
   "version": "3.6.8"
  }
 },
 "nbformat": 4,
 "nbformat_minor": 4
}
