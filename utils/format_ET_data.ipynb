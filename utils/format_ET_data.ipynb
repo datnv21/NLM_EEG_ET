{
 "cells": [
  {
   "cell_type": "code",
   "execution_count": 58,
   "id": "common-tanzania",
   "metadata": {},
   "outputs": [],
   "source": [
    "import pandas as pd"
   ]
  },
  {
   "cell_type": "code",
   "execution_count": 59,
   "id": "weird-punch",
   "metadata": {},
   "outputs": [],
   "source": [
    "df = pd.read_csv('./EEG/DataEEG/HMI02/sample1/ET.csv')"
   ]
  },
  {
   "cell_type": "code",
   "execution_count": 61,
   "id": "fancy-armor",
   "metadata": {},
   "outputs": [],
   "source": [
    "x_ = []\n",
    "y_ = []\n",
    "_data = []\n",
    "_time_stamp = []\n",
    "_character_typing = []"
   ]
  },
  {
   "cell_type": "code",
   "execution_count": 47,
   "id": "italian-oakland",
   "metadata": {},
   "outputs": [
    {
     "data": {
      "text/html": [
       "<div>\n",
       "<style scoped>\n",
       "    .dataframe tbody tr th:only-of-type {\n",
       "        vertical-align: middle;\n",
       "    }\n",
       "\n",
       "    .dataframe tbody tr th {\n",
       "        vertical-align: top;\n",
       "    }\n",
       "\n",
       "    .dataframe thead th {\n",
       "        text-align: right;\n",
       "    }\n",
       "</style>\n",
       "<table border=\"1\" class=\"dataframe\">\n",
       "  <thead>\n",
       "    <tr style=\"text-align: right;\">\n",
       "      <th></th>\n",
       "      <th>Data</th>\n",
       "      <th>TimeStamp</th>\n",
       "    </tr>\n",
       "  </thead>\n",
       "  <tbody>\n",
       "    <tr>\n",
       "      <th>8331</th>\n",
       "      <td>['(none, none, none) : EMPTY_ET_STREAM : MainM...</td>\n",
       "      <td>2743.541750</td>\n",
       "    </tr>\n",
       "    <tr>\n",
       "      <th>8332</th>\n",
       "      <td>['(none, none, none) : EMPTY_ET_STREAM : MainM...</td>\n",
       "      <td>2743.558307</td>\n",
       "    </tr>\n",
       "    <tr>\n",
       "      <th>8333</th>\n",
       "      <td>['(none, none, none) : EMPTY_ET_STREAM : MainM...</td>\n",
       "      <td>2743.575502</td>\n",
       "    </tr>\n",
       "    <tr>\n",
       "      <th>8334</th>\n",
       "      <td>['(none, none, none) : EMPTY_ET_STREAM : MainM...</td>\n",
       "      <td>2743.592209</td>\n",
       "    </tr>\n",
       "    <tr>\n",
       "      <th>8335</th>\n",
       "      <td>['(none, none, none) : EMPTY_ET_STREAM : MainM...</td>\n",
       "      <td>2743.608609</td>\n",
       "    </tr>\n",
       "  </tbody>\n",
       "</table>\n",
       "</div>"
      ],
      "text/plain": [
       "                                                   Data    TimeStamp\n",
       "8331  ['(none, none, none) : EMPTY_ET_STREAM : MainM...  2743.541750\n",
       "8332  ['(none, none, none) : EMPTY_ET_STREAM : MainM...  2743.558307\n",
       "8333  ['(none, none, none) : EMPTY_ET_STREAM : MainM...  2743.575502\n",
       "8334  ['(none, none, none) : EMPTY_ET_STREAM : MainM...  2743.592209\n",
       "8335  ['(none, none, none) : EMPTY_ET_STREAM : MainM...  2743.608609"
      ]
     },
     "execution_count": 47,
     "metadata": {},
     "output_type": "execute_result"
    }
   ],
   "source": [
    "df.tail()"
   ]
  },
  {
   "cell_type": "code",
   "execution_count": 1,
   "id": "olive-device",
   "metadata": {},
   "outputs": [],
   "source": [
    "# df['Data'][0]"
   ]
  },
  {
   "cell_type": "code",
   "execution_count": 2,
   "id": "supreme-excellence",
   "metadata": {},
   "outputs": [],
   "source": [
    "# df['Data'][0].split(' : ')"
   ]
  },
  {
   "cell_type": "code",
   "execution_count": 3,
   "id": "liquid-discussion",
   "metadata": {},
   "outputs": [],
   "source": [
    "# x,y,z = df['Data'][0].split(' : ')[0][3:-1].split(',')"
   ]
  },
  {
   "cell_type": "code",
   "execution_count": 4,
   "id": "conservative-lyric",
   "metadata": {},
   "outputs": [],
   "source": [
    "# data = df['Data'][0].split(' : ')[1]"
   ]
  },
  {
   "cell_type": "code",
   "execution_count": 5,
   "id": "bearing-tablet",
   "metadata": {},
   "outputs": [],
   "source": [
    "# character_typing = df['Data'][0].split(' : ')[2][:-2]"
   ]
  },
  {
   "cell_type": "code",
   "execution_count": 62,
   "id": "classified-nation",
   "metadata": {},
   "outputs": [],
   "source": [
    "for i, value in enumerate(df['Data']):\n",
    "    x, y, z = x,y,z = df['Data'][i].split(' : ')[0][3:-1].split(',')\n",
    "    data = df['Data'][i].split(' : ')[1]\n",
    "    character_typing = df['Data'][i].split(' : ')[2][:-2]\n",
    "    x_.append(x)\n",
    "    y_.append(y)\n",
    "    _character_typing.append(character_typing)\n",
    "    _data.append(data)\n",
    "    \n"
   ]
  },
  {
   "cell_type": "code",
   "execution_count": 76,
   "id": "individual-lyric",
   "metadata": {},
   "outputs": [],
   "source": [
    "final_data = pd.DataFrame({'TimeStamp':df['TimeStamp'],'x':x_, 'y':y_, 'Data':_data, 'character typing':_character_typing  })"
   ]
  },
  {
   "cell_type": "code",
   "execution_count": 77,
   "id": "charged-title",
   "metadata": {},
   "outputs": [
    {
     "data": {
      "text/html": [
       "<div>\n",
       "<style scoped>\n",
       "    .dataframe tbody tr th:only-of-type {\n",
       "        vertical-align: middle;\n",
       "    }\n",
       "\n",
       "    .dataframe tbody tr th {\n",
       "        vertical-align: top;\n",
       "    }\n",
       "\n",
       "    .dataframe thead th {\n",
       "        text-align: right;\n",
       "    }\n",
       "</style>\n",
       "<table border=\"1\" class=\"dataframe\">\n",
       "  <thead>\n",
       "    <tr style=\"text-align: right;\">\n",
       "      <th></th>\n",
       "      <th>TimeStamp</th>\n",
       "      <th>x</th>\n",
       "      <th>y</th>\n",
       "      <th>Data</th>\n",
       "      <th>character typing</th>\n",
       "    </tr>\n",
       "  </thead>\n",
       "  <tbody>\n",
       "    <tr>\n",
       "      <th>0</th>\n",
       "      <td>2604.688896</td>\n",
       "      <td>none</td>\n",
       "      <td>none</td>\n",
       "      <td>EMPTY_ET_STREAM</td>\n",
       "      <td>MainMenu</td>\n",
       "    </tr>\n",
       "    <tr>\n",
       "      <th>1</th>\n",
       "      <td>2604.704923</td>\n",
       "      <td>none</td>\n",
       "      <td>none</td>\n",
       "      <td>EMPTY_ET_STREAM</td>\n",
       "      <td>MainMenu</td>\n",
       "    </tr>\n",
       "    <tr>\n",
       "      <th>2</th>\n",
       "      <td>2604.721479</td>\n",
       "      <td>none</td>\n",
       "      <td>none</td>\n",
       "      <td>EMPTY_ET_STREAM</td>\n",
       "      <td>MainMenu</td>\n",
       "    </tr>\n",
       "    <tr>\n",
       "      <th>3</th>\n",
       "      <td>2604.737269</td>\n",
       "      <td>none</td>\n",
       "      <td>none</td>\n",
       "      <td>EMPTY_ET_STREAM</td>\n",
       "      <td>MainMenu</td>\n",
       "    </tr>\n",
       "    <tr>\n",
       "      <th>4</th>\n",
       "      <td>2604.755027</td>\n",
       "      <td>none</td>\n",
       "      <td>none</td>\n",
       "      <td>EMPTY_ET_STREAM</td>\n",
       "      <td>MainMenu</td>\n",
       "    </tr>\n",
       "    <tr>\n",
       "      <th>...</th>\n",
       "      <td>...</td>\n",
       "      <td>...</td>\n",
       "      <td>...</td>\n",
       "      <td>...</td>\n",
       "      <td>...</td>\n",
       "    </tr>\n",
       "    <tr>\n",
       "      <th>8331</th>\n",
       "      <td>2743.541750</td>\n",
       "      <td>none</td>\n",
       "      <td>none</td>\n",
       "      <td>EMPTY_ET_STREAM</td>\n",
       "      <td>MainMenu</td>\n",
       "    </tr>\n",
       "    <tr>\n",
       "      <th>8332</th>\n",
       "      <td>2743.558307</td>\n",
       "      <td>none</td>\n",
       "      <td>none</td>\n",
       "      <td>EMPTY_ET_STREAM</td>\n",
       "      <td>MainMenu</td>\n",
       "    </tr>\n",
       "    <tr>\n",
       "      <th>8333</th>\n",
       "      <td>2743.575502</td>\n",
       "      <td>none</td>\n",
       "      <td>none</td>\n",
       "      <td>EMPTY_ET_STREAM</td>\n",
       "      <td>MainMenu</td>\n",
       "    </tr>\n",
       "    <tr>\n",
       "      <th>8334</th>\n",
       "      <td>2743.592209</td>\n",
       "      <td>none</td>\n",
       "      <td>none</td>\n",
       "      <td>EMPTY_ET_STREAM</td>\n",
       "      <td>MainMenu</td>\n",
       "    </tr>\n",
       "    <tr>\n",
       "      <th>8335</th>\n",
       "      <td>2743.608609</td>\n",
       "      <td>none</td>\n",
       "      <td>none</td>\n",
       "      <td>EMPTY_ET_STREAM</td>\n",
       "      <td>MainMenu</td>\n",
       "    </tr>\n",
       "  </tbody>\n",
       "</table>\n",
       "<p>8336 rows × 5 columns</p>\n",
       "</div>"
      ],
      "text/plain": [
       "        TimeStamp     x      y             Data character typing\n",
       "0     2604.688896  none   none  EMPTY_ET_STREAM         MainMenu\n",
       "1     2604.704923  none   none  EMPTY_ET_STREAM         MainMenu\n",
       "2     2604.721479  none   none  EMPTY_ET_STREAM         MainMenu\n",
       "3     2604.737269  none   none  EMPTY_ET_STREAM         MainMenu\n",
       "4     2604.755027  none   none  EMPTY_ET_STREAM         MainMenu\n",
       "...           ...   ...    ...              ...              ...\n",
       "8331  2743.541750  none   none  EMPTY_ET_STREAM         MainMenu\n",
       "8332  2743.558307  none   none  EMPTY_ET_STREAM         MainMenu\n",
       "8333  2743.575502  none   none  EMPTY_ET_STREAM         MainMenu\n",
       "8334  2743.592209  none   none  EMPTY_ET_STREAM         MainMenu\n",
       "8335  2743.608609  none   none  EMPTY_ET_STREAM         MainMenu\n",
       "\n",
       "[8336 rows x 5 columns]"
      ]
     },
     "execution_count": 77,
     "metadata": {},
     "output_type": "execute_result"
    }
   ],
   "source": [
    "final_data"
   ]
  },
  {
   "cell_type": "code",
   "execution_count": 75,
   "id": "pacific-attitude",
   "metadata": {},
   "outputs": [],
   "source": [
    "final_data.to_csv(r'./EEG/sample.csv', index = False, header=True)"
   ]
  },
  {
   "cell_type": "code",
   "execution_count": null,
   "id": "signal-mileage",
   "metadata": {},
   "outputs": [],
   "source": []
  }
 ],
 "metadata": {
  "kernelspec": {
   "display_name": "Python 3",
   "language": "python",
   "name": "python3"
  },
  "language_info": {
   "codemirror_mode": {
    "name": "ipython",
    "version": 3
   },
   "file_extension": ".py",
   "mimetype": "text/x-python",
   "name": "python",
   "nbconvert_exporter": "python",
   "pygments_lexer": "ipython3",
   "version": "3.7.10"
  }
 },
 "nbformat": 4,
 "nbformat_minor": 5
}
