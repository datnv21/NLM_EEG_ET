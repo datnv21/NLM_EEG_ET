{
 "cells": [
  {
   "cell_type": "code",
   "execution_count": 1,
   "metadata": {},
   "outputs": [],
   "source": [
    "import os\n",
    "from csv import DictReader"
   ]
  },
  {
   "cell_type": "code",
   "execution_count": 2,
   "metadata": {},
   "outputs": [],
   "source": [
    "import re"
   ]
  },
  {
   "cell_type": "markdown",
   "metadata": {},
   "source": [
    "## Constant Variables"
   ]
  },
  {
   "cell_type": "code",
   "execution_count": 3,
   "metadata": {},
   "outputs": [],
   "source": [
    "EEG_timestamp_path = \"DataVIN/HMI01/sample2/EEGTimeStamp.txt\""
   ]
  },
  {
   "cell_type": "code",
   "execution_count": 4,
   "metadata": {},
   "outputs": [],
   "source": [
    "ET_text_path = \"DataVIN/HMI01/sample2/ET.csv\""
   ]
  },
  {
   "cell_type": "code",
   "execution_count": 55,
   "metadata": {},
   "outputs": [],
   "source": [
    "vn_re = '[^a-z0-9A-Z_ÀÁÂÃÈÉÊÌÍÒÓÔÕÙÚĂĐĨŨƠàáâãèéêìíòóôõùúăđĩũơƯĂẠẢẤẦẨẪẬẮẰẲẴẶẸẺẼỀỀỂưăạảấầẩẫậắằẳẵặẹẻẽềềểỄỆỈỊỌỎỐỒỔỖỘỚỜỞỠỢỤỦỨỪễệỉịọỏốồổỗộớờởỡợụủứừỬỮỰỲỴÝỶỸửữựỳỵỷỹ: \\n\\.]'"
   ]
  },
  {
   "cell_type": "markdown",
   "metadata": {},
   "source": [
    "## Load data"
   ]
  },
  {
   "cell_type": "code",
   "execution_count": 46,
   "metadata": {},
   "outputs": [],
   "source": [
    "with open(EEG_timestamp_path, \"r\") as f:\n",
    "    \n",
    "    timestamps = f.readlines()"
   ]
  },
  {
   "cell_type": "code",
   "execution_count": 47,
   "metadata": {},
   "outputs": [
    {
     "data": {
      "text/plain": [
       "12128"
      ]
     },
     "execution_count": 47,
     "metadata": {},
     "output_type": "execute_result"
    }
   ],
   "source": [
    "len(timestamps)"
   ]
  },
  {
   "cell_type": "code",
   "execution_count": 48,
   "metadata": {},
   "outputs": [],
   "source": [
    "# timestamps"
   ]
  },
  {
   "cell_type": "code",
   "execution_count": 49,
   "metadata": {},
   "outputs": [],
   "source": [
    "et_text_data = {\"data\": [], \"timestamp\": []}\n",
    "\n",
    "with open(ET_text_path, \"r\") as f:\n",
    "    csv_dict_reader = DictReader(f)\n",
    "    \n",
    "    for idx, row in enumerate(csv_dict_reader):\n",
    "        et_text_data[\"data\"].append(row['Data'])\n",
    "        et_text_data[\"timestamp\"].append(row['TimeStamp'])"
   ]
  },
  {
   "cell_type": "code",
   "execution_count": 50,
   "metadata": {},
   "outputs": [
    {
     "data": {
      "text/plain": [
       "5907"
      ]
     },
     "execution_count": 50,
     "metadata": {},
     "output_type": "execute_result"
    }
   ],
   "source": [
    "len(et_text_data[\"data\"])"
   ]
  },
  {
   "cell_type": "code",
   "execution_count": 56,
   "metadata": {},
   "outputs": [
    {
     "data": {
      "text/plain": [
       "'0.8117222 0.595879 0 : phă : nâng tay ph'"
      ]
     },
     "execution_count": 56,
     "metadata": {},
     "output_type": "execute_result"
    }
   ],
   "source": [
    "s = et_text_data[\"data\"][5000]\n",
    "s = re.sub(vn_re, '', s)\n",
    "s"
   ]
  },
  {
   "cell_type": "code",
   "execution_count": 57,
   "metadata": {},
   "outputs": [],
   "source": [
    "s = s.split(\":\")"
   ]
  },
  {
   "cell_type": "code",
   "execution_count": 58,
   "metadata": {},
   "outputs": [
    {
     "data": {
      "text/plain": [
       "['0.8117222 0.595879 0 ', ' phă ', ' nâng tay ph']"
      ]
     },
     "execution_count": 58,
     "metadata": {},
     "output_type": "execute_result"
    }
   ],
   "source": [
    "s"
   ]
  },
  {
   "cell_type": "code",
   "execution_count": 87,
   "metadata": {},
   "outputs": [],
   "source": [
    "def elect_text_timestamp(et_text_data):\n",
    "    et_text = {\"text\": [], \"timestamp\": []}\n",
    "    data_length = len(et_text_data[\"data\"])\n",
    "    \n",
    "    for i in range(data_length):\n",
    "        timestamp = et_text_data[\"timestamp\"][i]\n",
    "        text = et_text_data[\"data\"][i]\n",
    "        text = re.sub(vn_re, '', text)\n",
    "        text = text.split(':')\n",
    "        sentence = text[-1].strip()\n",
    "        \n",
    "        if len(sentence.split(\" \")) > 1:\n",
    "            if sentence not in et_text[\"text\"]:\n",
    "                et_text[\"text\"].append(sentence)\n",
    "                et_text[\"timestamp\"].append(timestamp)\n",
    "        \n",
    "    return et_text"
   ]
  },
  {
   "cell_type": "code",
   "execution_count": 88,
   "metadata": {},
   "outputs": [],
   "source": [
    "et_text = elect_text_timestamp(et_text_data)"
   ]
  },
  {
   "cell_type": "code",
   "execution_count": 89,
   "metadata": {},
   "outputs": [
    {
     "data": {
      "text/plain": [
       "{'text': ['nâng t',\n",
       "  'nâng ta',\n",
       "  'nâng tay',\n",
       "  'nâng tay p',\n",
       "  'nâng tay ph',\n",
       "  'nâng tay pha',\n",
       "  'nâng tay phai',\n",
       "  'nâng tay phải'],\n",
       " 'timestamp': ['105413.2099434',\n",
       "  '105417.2608513',\n",
       "  '105419.9486951',\n",
       "  '105431.1209209',\n",
       "  '105434.5359792',\n",
       "  '105438.1389462',\n",
       "  '105440.1230317',\n",
       "  '105442.4503111']}"
      ]
     },
     "execution_count": 89,
     "metadata": {},
     "output_type": "execute_result"
    }
   ],
   "source": [
    "et_text"
   ]
  },
  {
   "cell_type": "code",
   "execution_count": null,
   "metadata": {},
   "outputs": [],
   "source": []
  }
 ],
 "metadata": {
  "kernelspec": {
   "display_name": "py3.6",
   "language": "python",
   "name": "py3.6"
  },
  "language_info": {
   "codemirror_mode": {
    "name": "ipython",
    "version": 3
   },
   "file_extension": ".py",
   "mimetype": "text/x-python",
   "name": "python",
   "nbconvert_exporter": "python",
   "pygments_lexer": "ipython3",
   "version": "3.6.9"
  }
 },
 "nbformat": 4,
 "nbformat_minor": 4
}
